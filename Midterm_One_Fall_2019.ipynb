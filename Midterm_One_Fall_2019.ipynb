{
 "cells": [
  {
   "cell_type": "code",
   "execution_count": 2,
   "metadata": {},
   "outputs": [],
   "source": [
    "import numpy as np\n",
    "import matplotlib.pyplot as plt\n",
    "%matplotlib inline"
   ]
  },
  {
   "cell_type": "code",
   "execution_count": 3,
   "metadata": {},
   "outputs": [],
   "source": [
    "interval = np.linspace(-5, 11.323)"
   ]
  },
  {
   "cell_type": "markdown",
   "metadata": {},
   "source": [
    "**Problem 1** 15pts: \n",
    "    \n",
    "1a) 3pts - In NumPy, create an array of points between $-5$ and $11.323$ with spacing $.0285$.  If you can not do this exactly, how close can you get?  \n",
    "\n",
    "1b) 3pts - Using vectorization, plot $f(x) = 3x^{4} + 3x^{2} + 2$ for $-5\\leq x \\leq 11.323$.  Make sure your graph is labeled.   \n",
    "1c) 3pts - Using vectorization in Python, find the sum \n",
    "\n",
    "$$\n",
    "\\sum_{j=0}^{n}(4j^{3} + 3j^{2} + 2)\n",
    "$$\n",
    "\n",
    "for $n=30,50$.\n",
    "\n",
    "1d) 3pts - For the integers less than 10,000, what is the sum of those numbers which are divisible by 7, 13, or 18?  \n",
    "\n",
    "1e) 3pts - For the recurrence relation\n",
    "\n",
    "$$\n",
    "p_{n} = 3p_{n-4} - 2p_{n-3} + 3p_{n-1}, ~ n\\geq 4, \n",
    "$$\n",
    "\n",
    "where \n",
    "\n",
    "$$\n",
    "p_{0}= .1, ~ p_{1}=2.1, ~ p_{2} = .235, ~ p_{3} = 0,\n",
    "$$\n",
    "\n",
    "what is $p_{n}$ for $n=5$, $10$, and $20$?"
   ]
  },
  {
   "cell_type": "code",
   "execution_count": 4,
   "metadata": {},
   "outputs": [
    {
     "name": "stdout",
     "output_type": "stream",
     "text": [
      "using np.arange for spacing\n",
      "[-5.     -4.9715 -4.943  -4.9145 -4.886  -4.8575 -4.829  -4.8005 -4.772\n",
      " -4.7435 -4.715  -4.6865 -4.658  -4.6295 -4.601  -4.5725 -4.544  -4.5155\n",
      " -4.487  -4.4585 -4.43   -4.4015 -4.373  -4.3445 -4.316  -4.2875 -4.259\n",
      " -4.2305 -4.202  -4.1735 -4.145  -4.1165 -4.088  -4.0595 -4.031  -4.0025\n",
      " -3.974  -3.9455 -3.917  -3.8885 -3.86   -3.8315 -3.803  -3.7745 -3.746\n",
      " -3.7175 -3.689  -3.6605 -3.632  -3.6035 -3.575  -3.5465 -3.518  -3.4895\n",
      " -3.461  -3.4325 -3.404  -3.3755 -3.347  -3.3185 -3.29   -3.2615 -3.233\n",
      " -3.2045 -3.176  -3.1475 -3.119  -3.0905 -3.062  -3.0335 -3.005  -2.9765\n",
      " -2.948  -2.9195 -2.891  -2.8625 -2.834  -2.8055 -2.777  -2.7485 -2.72\n",
      " -2.6915 -2.663  -2.6345 -2.606  -2.5775 -2.549  -2.5205 -2.492  -2.4635\n",
      " -2.435  -2.4065 -2.378  -2.3495 -2.321  -2.2925 -2.264  -2.2355 -2.207\n",
      " -2.1785 -2.15   -2.1215 -2.093  -2.0645 -2.036  -2.0075 -1.979  -1.9505\n",
      " -1.922  -1.8935 -1.865  -1.8365 -1.808  -1.7795 -1.751  -1.7225 -1.694\n",
      " -1.6655 -1.637  -1.6085 -1.58   -1.5515 -1.523  -1.4945 -1.466  -1.4375\n",
      " -1.409  -1.3805 -1.352  -1.3235 -1.295  -1.2665 -1.238  -1.2095 -1.181\n",
      " -1.1525 -1.124  -1.0955 -1.067  -1.0385 -1.01   -0.9815 -0.953  -0.9245\n",
      " -0.896  -0.8675 -0.839  -0.8105 -0.782  -0.7535 -0.725  -0.6965 -0.668\n",
      " -0.6395 -0.611  -0.5825 -0.554  -0.5255 -0.497  -0.4685 -0.44   -0.4115\n",
      " -0.383  -0.3545 -0.326  -0.2975 -0.269  -0.2405 -0.212  -0.1835 -0.155\n",
      " -0.1265 -0.098  -0.0695 -0.041  -0.0125  0.016   0.0445  0.073   0.1015\n",
      "  0.13    0.1585  0.187   0.2155  0.244   0.2725  0.301   0.3295  0.358\n",
      "  0.3865  0.415   0.4435  0.472   0.5005  0.529   0.5575  0.586   0.6145\n",
      "  0.643   0.6715  0.7     0.7285  0.757   0.7855  0.814   0.8425  0.871\n",
      "  0.8995  0.928   0.9565  0.985   1.0135  1.042   1.0705  1.099   1.1275\n",
      "  1.156   1.1845  1.213   1.2415  1.27    1.2985  1.327   1.3555  1.384\n",
      "  1.4125  1.441   1.4695  1.498   1.5265  1.555   1.5835  1.612   1.6405\n",
      "  1.669   1.6975  1.726   1.7545  1.783   1.8115  1.84    1.8685  1.897\n",
      "  1.9255  1.954   1.9825  2.011   2.0395  2.068   2.0965  2.125   2.1535\n",
      "  2.182   2.2105  2.239   2.2675  2.296   2.3245  2.353   2.3815  2.41\n",
      "  2.4385  2.467   2.4955  2.524   2.5525  2.581   2.6095  2.638   2.6665\n",
      "  2.695   2.7235  2.752   2.7805  2.809   2.8375  2.866   2.8945  2.923\n",
      "  2.9515  2.98    3.0085  3.037   3.0655  3.094   3.1225  3.151   3.1795\n",
      "  3.208   3.2365  3.265   3.2935  3.322   3.3505  3.379   3.4075  3.436\n",
      "  3.4645  3.493   3.5215  3.55    3.5785  3.607   3.6355  3.664   3.6925\n",
      "  3.721   3.7495  3.778   3.8065  3.835   3.8635  3.892   3.9205  3.949\n",
      "  3.9775  4.006   4.0345  4.063   4.0915  4.12    4.1485  4.177   4.2055\n",
      "  4.234   4.2625  4.291   4.3195  4.348   4.3765  4.405   4.4335  4.462\n",
      "  4.4905  4.519   4.5475  4.576   4.6045  4.633   4.6615  4.69    4.7185\n",
      "  4.747   4.7755  4.804   4.8325  4.861   4.8895  4.918   4.9465  4.975\n",
      "  5.0035  5.032   5.0605  5.089   5.1175  5.146   5.1745  5.203   5.2315\n",
      "  5.26    5.2885  5.317   5.3455  5.374   5.4025  5.431   5.4595  5.488\n",
      "  5.5165  5.545   5.5735  5.602   5.6305  5.659   5.6875  5.716   5.7445\n",
      "  5.773   5.8015  5.83    5.8585  5.887   5.9155  5.944   5.9725  6.001\n",
      "  6.0295  6.058   6.0865  6.115   6.1435  6.172   6.2005  6.229   6.2575\n",
      "  6.286   6.3145  6.343   6.3715  6.4     6.4285  6.457   6.4855  6.514\n",
      "  6.5425  6.571   6.5995  6.628   6.6565  6.685   6.7135  6.742   6.7705\n",
      "  6.799   6.8275  6.856   6.8845  6.913   6.9415  6.97    6.9985  7.027\n",
      "  7.0555  7.084   7.1125  7.141   7.1695  7.198   7.2265  7.255   7.2835\n",
      "  7.312   7.3405  7.369   7.3975  7.426   7.4545  7.483   7.5115  7.54\n",
      "  7.5685  7.597   7.6255  7.654   7.6825  7.711   7.7395  7.768   7.7965\n",
      "  7.825   7.8535  7.882   7.9105  7.939   7.9675  7.996   8.0245  8.053\n",
      "  8.0815  8.11    8.1385  8.167   8.1955  8.224   8.2525  8.281   8.3095\n",
      "  8.338   8.3665  8.395   8.4235  8.452   8.4805  8.509   8.5375  8.566\n",
      "  8.5945  8.623   8.6515  8.68    8.7085  8.737   8.7655  8.794   8.8225\n",
      "  8.851   8.8795  8.908   8.9365  8.965   8.9935  9.022   9.0505  9.079\n",
      "  9.1075  9.136   9.1645  9.193   9.2215  9.25    9.2785  9.307   9.3355\n",
      "  9.364   9.3925  9.421   9.4495  9.478   9.5065  9.535   9.5635  9.592\n",
      "  9.6205  9.649   9.6775  9.706   9.7345  9.763   9.7915  9.82    9.8485\n",
      "  9.877   9.9055  9.934   9.9625  9.991  10.0195 10.048  10.0765 10.105\n",
      " 10.1335 10.162  10.1905 10.219  10.2475 10.276  10.3045 10.333  10.3615\n",
      " 10.39   10.4185 10.447  10.4755 10.504  10.5325 10.561  10.5895 10.618\n",
      " 10.6465 10.675  10.7035 10.732  10.7605 10.789  10.8175 10.846  10.8745\n",
      " 10.903  10.9315 10.96   10.9885 11.017  11.0455 11.074  11.1025 11.131\n",
      " 11.1595 11.188  11.2165 11.245  11.2735 11.302 ]\n",
      "using np.linspace to get exact number of points\n",
      "[-5.00000000e+00 -4.97146329e+00 -4.94292657e+00 -4.91438986e+00\n",
      " -4.88585315e+00 -4.85731643e+00 -4.82877972e+00 -4.80024301e+00\n",
      " -4.77170629e+00 -4.74316958e+00 -4.71463287e+00 -4.68609615e+00\n",
      " -4.65755944e+00 -4.62902273e+00 -4.60048601e+00 -4.57194930e+00\n",
      " -4.54341259e+00 -4.51487587e+00 -4.48633916e+00 -4.45780245e+00\n",
      " -4.42926573e+00 -4.40072902e+00 -4.37219231e+00 -4.34365559e+00\n",
      " -4.31511888e+00 -4.28658217e+00 -4.25804545e+00 -4.22950874e+00\n",
      " -4.20097203e+00 -4.17243531e+00 -4.14389860e+00 -4.11536189e+00\n",
      " -4.08682517e+00 -4.05828846e+00 -4.02975175e+00 -4.00121503e+00\n",
      " -3.97267832e+00 -3.94414161e+00 -3.91560490e+00 -3.88706818e+00\n",
      " -3.85853147e+00 -3.82999476e+00 -3.80145804e+00 -3.77292133e+00\n",
      " -3.74438462e+00 -3.71584790e+00 -3.68731119e+00 -3.65877448e+00\n",
      " -3.63023776e+00 -3.60170105e+00 -3.57316434e+00 -3.54462762e+00\n",
      " -3.51609091e+00 -3.48755420e+00 -3.45901748e+00 -3.43048077e+00\n",
      " -3.40194406e+00 -3.37340734e+00 -3.34487063e+00 -3.31633392e+00\n",
      " -3.28779720e+00 -3.25926049e+00 -3.23072378e+00 -3.20218706e+00\n",
      " -3.17365035e+00 -3.14511364e+00 -3.11657692e+00 -3.08804021e+00\n",
      " -3.05950350e+00 -3.03096678e+00 -3.00243007e+00 -2.97389336e+00\n",
      " -2.94535664e+00 -2.91681993e+00 -2.88828322e+00 -2.85974650e+00\n",
      " -2.83120979e+00 -2.80267308e+00 -2.77413636e+00 -2.74559965e+00\n",
      " -2.71706294e+00 -2.68852622e+00 -2.65998951e+00 -2.63145280e+00\n",
      " -2.60291608e+00 -2.57437937e+00 -2.54584266e+00 -2.51730594e+00\n",
      " -2.48876923e+00 -2.46023252e+00 -2.43169580e+00 -2.40315909e+00\n",
      " -2.37462238e+00 -2.34608566e+00 -2.31754895e+00 -2.28901224e+00\n",
      " -2.26047552e+00 -2.23193881e+00 -2.20340210e+00 -2.17486538e+00\n",
      " -2.14632867e+00 -2.11779196e+00 -2.08925524e+00 -2.06071853e+00\n",
      " -2.03218182e+00 -2.00364510e+00 -1.97510839e+00 -1.94657168e+00\n",
      " -1.91803497e+00 -1.88949825e+00 -1.86096154e+00 -1.83242483e+00\n",
      " -1.80388811e+00 -1.77535140e+00 -1.74681469e+00 -1.71827797e+00\n",
      " -1.68974126e+00 -1.66120455e+00 -1.63266783e+00 -1.60413112e+00\n",
      " -1.57559441e+00 -1.54705769e+00 -1.51852098e+00 -1.48998427e+00\n",
      " -1.46144755e+00 -1.43291084e+00 -1.40437413e+00 -1.37583741e+00\n",
      " -1.34730070e+00 -1.31876399e+00 -1.29022727e+00 -1.26169056e+00\n",
      " -1.23315385e+00 -1.20461713e+00 -1.17608042e+00 -1.14754371e+00\n",
      " -1.11900699e+00 -1.09047028e+00 -1.06193357e+00 -1.03339685e+00\n",
      " -1.00486014e+00 -9.76323427e-01 -9.47786713e-01 -9.19250000e-01\n",
      " -8.90713287e-01 -8.62176573e-01 -8.33639860e-01 -8.05103147e-01\n",
      " -7.76566434e-01 -7.48029720e-01 -7.19493007e-01 -6.90956294e-01\n",
      " -6.62419580e-01 -6.33882867e-01 -6.05346154e-01 -5.76809441e-01\n",
      " -5.48272727e-01 -5.19736014e-01 -4.91199301e-01 -4.62662587e-01\n",
      " -4.34125874e-01 -4.05589161e-01 -3.77052448e-01 -3.48515734e-01\n",
      " -3.19979021e-01 -2.91442308e-01 -2.62905594e-01 -2.34368881e-01\n",
      " -2.05832168e-01 -1.77295455e-01 -1.48758741e-01 -1.20222028e-01\n",
      " -9.16853147e-02 -6.31486014e-02 -3.46118881e-02 -6.07517483e-03\n",
      "  2.24615385e-02  5.09982517e-02  7.95349650e-02  1.08071678e-01\n",
      "  1.36608392e-01  1.65145105e-01  1.93681818e-01  2.22218531e-01\n",
      "  2.50755245e-01  2.79291958e-01  3.07828671e-01  3.36365385e-01\n",
      "  3.64902098e-01  3.93438811e-01  4.21975524e-01  4.50512238e-01\n",
      "  4.79048951e-01  5.07585664e-01  5.36122378e-01  5.64659091e-01\n",
      "  5.93195804e-01  6.21732517e-01  6.50269231e-01  6.78805944e-01\n",
      "  7.07342657e-01  7.35879371e-01  7.64416084e-01  7.92952797e-01\n",
      "  8.21489510e-01  8.50026224e-01  8.78562937e-01  9.07099650e-01\n",
      "  9.35636364e-01  9.64173077e-01  9.92709790e-01  1.02124650e+00\n",
      "  1.04978322e+00  1.07831993e+00  1.10685664e+00  1.13539336e+00\n",
      "  1.16393007e+00  1.19246678e+00  1.22100350e+00  1.24954021e+00\n",
      "  1.27807692e+00  1.30661364e+00  1.33515035e+00  1.36368706e+00\n",
      "  1.39222378e+00  1.42076049e+00  1.44929720e+00  1.47783392e+00\n",
      "  1.50637063e+00  1.53490734e+00  1.56344406e+00  1.59198077e+00\n",
      "  1.62051748e+00  1.64905420e+00  1.67759091e+00  1.70612762e+00\n",
      "  1.73466434e+00  1.76320105e+00  1.79173776e+00  1.82027448e+00\n",
      "  1.84881119e+00  1.87734790e+00  1.90588462e+00  1.93442133e+00\n",
      "  1.96295804e+00  1.99149476e+00  2.02003147e+00  2.04856818e+00\n",
      "  2.07710490e+00  2.10564161e+00  2.13417832e+00  2.16271503e+00\n",
      "  2.19125175e+00  2.21978846e+00  2.24832517e+00  2.27686189e+00\n",
      "  2.30539860e+00  2.33393531e+00  2.36247203e+00  2.39100874e+00\n",
      "  2.41954545e+00  2.44808217e+00  2.47661888e+00  2.50515559e+00\n",
      "  2.53369231e+00  2.56222902e+00  2.59076573e+00  2.61930245e+00\n",
      "  2.64783916e+00  2.67637587e+00  2.70491259e+00  2.73344930e+00\n",
      "  2.76198601e+00  2.79052273e+00  2.81905944e+00  2.84759615e+00\n",
      "  2.87613287e+00  2.90466958e+00  2.93320629e+00  2.96174301e+00\n",
      "  2.99027972e+00  3.01881643e+00  3.04735315e+00  3.07588986e+00\n",
      "  3.10442657e+00  3.13296329e+00  3.16150000e+00  3.19003671e+00\n",
      "  3.21857343e+00  3.24711014e+00  3.27564685e+00  3.30418357e+00\n",
      "  3.33272028e+00  3.36125699e+00  3.38979371e+00  3.41833042e+00\n",
      "  3.44686713e+00  3.47540385e+00  3.50394056e+00  3.53247727e+00\n",
      "  3.56101399e+00  3.58955070e+00  3.61808741e+00  3.64662413e+00\n",
      "  3.67516084e+00  3.70369755e+00  3.73223427e+00  3.76077098e+00\n",
      "  3.78930769e+00  3.81784441e+00  3.84638112e+00  3.87491783e+00\n",
      "  3.90345455e+00  3.93199126e+00  3.96052797e+00  3.98906469e+00\n",
      "  4.01760140e+00  4.04613811e+00  4.07467483e+00  4.10321154e+00\n",
      "  4.13174825e+00  4.16028497e+00  4.18882168e+00  4.21735839e+00\n",
      "  4.24589510e+00  4.27443182e+00  4.30296853e+00  4.33150524e+00\n",
      "  4.36004196e+00  4.38857867e+00  4.41711538e+00  4.44565210e+00\n",
      "  4.47418881e+00  4.50272552e+00  4.53126224e+00  4.55979895e+00\n",
      "  4.58833566e+00  4.61687238e+00  4.64540909e+00  4.67394580e+00\n",
      "  4.70248252e+00  4.73101923e+00  4.75955594e+00  4.78809266e+00\n",
      "  4.81662937e+00  4.84516608e+00  4.87370280e+00  4.90223951e+00\n",
      "  4.93077622e+00  4.95931294e+00  4.98784965e+00  5.01638636e+00\n",
      "  5.04492308e+00  5.07345979e+00  5.10199650e+00  5.13053322e+00\n",
      "  5.15906993e+00  5.18760664e+00  5.21614336e+00  5.24468007e+00\n",
      "  5.27321678e+00  5.30175350e+00  5.33029021e+00  5.35882692e+00\n",
      "  5.38736364e+00  5.41590035e+00  5.44443706e+00  5.47297378e+00\n",
      "  5.50151049e+00  5.53004720e+00  5.55858392e+00  5.58712063e+00\n",
      "  5.61565734e+00  5.64419406e+00  5.67273077e+00  5.70126748e+00\n",
      "  5.72980420e+00  5.75834091e+00  5.78687762e+00  5.81541434e+00\n",
      "  5.84395105e+00  5.87248776e+00  5.90102448e+00  5.92956119e+00\n",
      "  5.95809790e+00  5.98663462e+00  6.01517133e+00  6.04370804e+00\n",
      "  6.07224476e+00  6.10078147e+00  6.12931818e+00  6.15785490e+00\n",
      "  6.18639161e+00  6.21492832e+00  6.24346503e+00  6.27200175e+00\n",
      "  6.30053846e+00  6.32907517e+00  6.35761189e+00  6.38614860e+00\n",
      "  6.41468531e+00  6.44322203e+00  6.47175874e+00  6.50029545e+00\n",
      "  6.52883217e+00  6.55736888e+00  6.58590559e+00  6.61444231e+00\n",
      "  6.64297902e+00  6.67151573e+00  6.70005245e+00  6.72858916e+00\n",
      "  6.75712587e+00  6.78566259e+00  6.81419930e+00  6.84273601e+00\n",
      "  6.87127273e+00  6.89980944e+00  6.92834615e+00  6.95688287e+00\n",
      "  6.98541958e+00  7.01395629e+00  7.04249301e+00  7.07102972e+00\n",
      "  7.09956643e+00  7.12810315e+00  7.15663986e+00  7.18517657e+00\n",
      "  7.21371329e+00  7.24225000e+00  7.27078671e+00  7.29932343e+00\n",
      "  7.32786014e+00  7.35639685e+00  7.38493357e+00  7.41347028e+00\n",
      "  7.44200699e+00  7.47054371e+00  7.49908042e+00  7.52761713e+00\n",
      "  7.55615385e+00  7.58469056e+00  7.61322727e+00  7.64176399e+00\n",
      "  7.67030070e+00  7.69883741e+00  7.72737413e+00  7.75591084e+00\n",
      "  7.78444755e+00  7.81298427e+00  7.84152098e+00  7.87005769e+00\n",
      "  7.89859441e+00  7.92713112e+00  7.95566783e+00  7.98420455e+00\n",
      "  8.01274126e+00  8.04127797e+00  8.06981469e+00  8.09835140e+00\n",
      "  8.12688811e+00  8.15542483e+00  8.18396154e+00  8.21249825e+00\n",
      "  8.24103497e+00  8.26957168e+00  8.29810839e+00  8.32664510e+00\n",
      "  8.35518182e+00  8.38371853e+00  8.41225524e+00  8.44079196e+00\n",
      "  8.46932867e+00  8.49786538e+00  8.52640210e+00  8.55493881e+00\n",
      "  8.58347552e+00  8.61201224e+00  8.64054895e+00  8.66908566e+00\n",
      "  8.69762238e+00  8.72615909e+00  8.75469580e+00  8.78323252e+00\n",
      "  8.81176923e+00  8.84030594e+00  8.86884266e+00  8.89737937e+00\n",
      "  8.92591608e+00  8.95445280e+00  8.98298951e+00  9.01152622e+00\n",
      "  9.04006294e+00  9.06859965e+00  9.09713636e+00  9.12567308e+00\n",
      "  9.15420979e+00  9.18274650e+00  9.21128322e+00  9.23981993e+00\n",
      "  9.26835664e+00  9.29689336e+00  9.32543007e+00  9.35396678e+00\n",
      "  9.38250350e+00  9.41104021e+00  9.43957692e+00  9.46811364e+00\n",
      "  9.49665035e+00  9.52518706e+00  9.55372378e+00  9.58226049e+00\n",
      "  9.61079720e+00  9.63933392e+00  9.66787063e+00  9.69640734e+00\n",
      "  9.72494406e+00  9.75348077e+00  9.78201748e+00  9.81055420e+00\n",
      "  9.83909091e+00  9.86762762e+00  9.89616434e+00  9.92470105e+00\n",
      "  9.95323776e+00  9.98177448e+00  1.00103112e+01  1.00388479e+01\n",
      "  1.00673846e+01  1.00959213e+01  1.01244580e+01  1.01529948e+01\n",
      "  1.01815315e+01  1.02100682e+01  1.02386049e+01  1.02671416e+01\n",
      "  1.02956783e+01  1.03242150e+01  1.03527517e+01  1.03812885e+01\n",
      "  1.04098252e+01  1.04383619e+01  1.04668986e+01  1.04954353e+01\n",
      "  1.05239720e+01  1.05525087e+01  1.05810455e+01  1.06095822e+01\n",
      "  1.06381189e+01  1.06666556e+01  1.06951923e+01  1.07237290e+01\n",
      "  1.07522657e+01  1.07808024e+01  1.08093392e+01  1.08378759e+01\n",
      "  1.08664126e+01  1.08949493e+01  1.09234860e+01  1.09520227e+01\n",
      "  1.09805594e+01  1.10090962e+01  1.10376329e+01  1.10661696e+01\n",
      "  1.10947063e+01  1.11232430e+01  1.11517797e+01  1.11803164e+01\n",
      "  1.12088531e+01  1.12373899e+01  1.12659266e+01  1.12944633e+01\n",
      "  1.13230000e+01]\n"
     ]
    }
   ],
   "source": [
    "### _Answer to Problem 1_\n",
    "#a \n",
    "xvals = np.arange(-5, 11.323, .0285)\n",
    "xvals2 = np.linspace(-5, 11.323, 573)\n",
    "print(\"using np.arange for spacing\")\n",
    "print(xvals)\n",
    "\n",
    "print(\"using np.linspace to get exact number of points\")\n",
    "print(xvals2)"
   ]
  },
  {
   "cell_type": "code",
   "execution_count": 5,
   "metadata": {},
   "outputs": [
    {
     "data": {
      "text/plain": [
       "<matplotlib.legend.Legend at 0x116a6d6a0>"
      ]
     },
     "execution_count": 5,
     "metadata": {},
     "output_type": "execute_result"
    },
    {
     "data": {
      "image/png": "[encoded data removed]",
      "text/plain": [
       "<Figure size 432x288 with 1 Axes>"
      ]
     },
     "metadata": {
      "needs_background": "light"
     },
     "output_type": "display_data"
    }
   ],
   "source": [
    "#b\n",
    "yvals = 3*(xvals2**4) + 3*(xvals2**2) + 2\n",
    "plt.plot(xvals2, yvals, label = \"$f(x)$\")\n",
    "plt.xlabel(\"$x$\")\n",
    "plt.ylabel(\"$y$\")\n",
    "plt.legend()"
   ]
  },
  {
   "cell_type": "code",
   "execution_count": 21,
   "metadata": {},
   "outputs": [
    {
     "name": "stdout",
     "output_type": "stream",
     "text": [
      "307570274.5274528\n",
      "1352673964.8964894\n"
     ]
    }
   ],
   "source": [
    "#c\n",
    "def sum_vec(n):\n",
    "    jvals = np.linspace(0, int(n)+1, int(1e4))\n",
    "    jcb = jvals**3\n",
    "    jsq = jvals**2\n",
    "    tot = np.sum(4*jcb + 3*jsq + 2)\n",
    "    return tot\n",
    "print(sum_vec(30))\n",
    "print(sum_vec(50))"
   ]
  },
  {
   "cell_type": "code",
   "execution_count": 7,
   "metadata": {},
   "outputs": [
    {
     "name": "stdout",
     "output_type": "stream",
     "text": [
      "12647598\n"
     ]
    }
   ],
   "source": [
    "#d\n",
    "tot2 = 0\n",
    "for jj in range(10000):\n",
    "    if jj%7 == 0 or jj%13 == 0 or jj%18 == 0:\n",
    "        tot2 += jj\n",
    "print(tot2)"
   ]
  },
  {
   "cell_type": "code",
   "execution_count": 33,
   "metadata": {},
   "outputs": [
    {
     "name": "stdout",
     "output_type": "stream",
     "text": [
      "-42.915000000000006\n",
      "-8931.960000000001\n",
      "-356220270.43500006\n"
     ]
    }
   ],
   "source": [
    "#e\n",
    "def rec_func(n):\n",
    "    if n >= 4:\n",
    "        p0 = .1\n",
    "        p1 = 2.1\n",
    "        p2 = .235\n",
    "        p3 = 0\n",
    "        for jj in range(int(n)-1):\n",
    "            p4 = 3*p0 - 2*p1 + 3*p3\n",
    "            p0 = p1\n",
    "            p1 = p2\n",
    "            p2 = p3\n",
    "            p3 = p4\n",
    "        return p4\n",
    "print(rec_func(5))\n",
    "print(rec_func(10))\n",
    "print(rec_func(20))"
   ]
  },
  {
   "cell_type": "markdown",
   "metadata": {},
   "source": [
    "**Problem 2**: 15pts - Given the function\n",
    "\n",
    "$$\n",
    "y(x) = \\sum_{l=0}^{\\infty} \\frac{(-1)^{l}x^{2l}}{3^{l}l!}\n",
    "$$\n",
    "\n",
    "2a) 6pts - Determine a recurrence relation between the coefficients.\n",
    "\n",
    "2b) 6pts - In Python, develop a tolerance based, recursive, vectorized implementation of this function.  \n",
    "\n",
    "2c) 3pts - Plot this function on the interval $[0,5]$ for tolerances $10^{-6}$ and $10^{-8}$.  Comment on any phenomena you see.  Make sure graphs are labeled, have a legend, and are well sized.  "
   ]
  },
  {
   "cell_type": "markdown",
   "metadata": {},
   "source": [
    " _Answer to Problem 2_\n",
    "a)\n",
    "$$\n",
    "a_{l} = \\frac{-1^{l}x^{2l}}{3^{l}l!} \\\\\n",
    "$$\n",
    "\n",
    "$$\n",
    "\\begin{align}\n",
    "a_{l - 1} = & \\frac{-1^{l-1}x^{2(l-1)}}{3^{l-1}(l-1)!} \\\\ \n",
    "= & \\frac{-1^{l}-1^{-1}x^{2l}x^{-2}}{3^{l}3^{-1}(l-1)!} \\\\\n",
    "= & \\frac{3(-1^{l})x^{2l}}{-1(3^{l})x^{2}(l-1)!} \\\\\n",
    "a_{l - 1} = & \\frac{3(-1^{l})x^{2l}}{-3^{l}x^{2}(l-1)!}.\n",
    "\\end{align}\n",
    "$$\n",
    "\n",
    "\n",
    "$$\n",
    "\\begin{align}\n",
    "\\frac{a_{l}}{a_{l-1}} = & \\frac{-1^{l}x^{2l}}{3^{l}l!} * \\frac{-1(3^{l})x^{2}(l-1)!}{3(-1^{l})x^{2l}} \\\\\n",
    "= & \\frac{-x^{2}(l-1)!}{3l(l-1)!} \\\\\n",
    "\\frac{a_{l}}{a_{l-1}} = & \\frac{-x^{2}}{3l}.\n",
    "\\end{align}\n",
    "$$"
   ]
  },
  {
   "cell_type": "code",
   "execution_count": 9,
   "metadata": {},
   "outputs": [],
   "source": [
    "#b\n",
    "def rec_func_vec(x, tol):\n",
    "    Tn = np.ones(x.size)\n",
    "    al = np.ones(x.size)\n",
    "    ll = 1\n",
    "    while np.max(np.abs(al)) >= tol:\n",
    "        al *= (-x**2)/(3*ll)\n",
    "        Tn += al\n",
    "        ll += 1\n",
    "    return Tn"
   ]
  },
  {
   "cell_type": "code",
   "execution_count": 10,
   "metadata": {},
   "outputs": [
    {
     "name": "stderr",
     "output_type": "stream",
     "text": [
      "//anaconda3/lib/python3.7/site-packages/ipykernel_launcher.py:2: DeprecationWarning: object of type <class 'float'> cannot be safely interpreted as an integer.\n",
      "  \n"
     ]
    },
    {
     "data": {
      "text/plain": [
       "<matplotlib.legend.Legend at 0x11a628d68>"
      ]
     },
     "execution_count": 10,
     "metadata": {},
     "output_type": "execute_result"
    },
    {
     "data": {
      "image/png": "[encoded data removed]",
      "text/plain": [
       "<Figure size 432x288 with 1 Axes>"
      ]
     },
     "metadata": {
      "needs_background": "light"
     },
     "output_type": "display_data"
    }
   ],
   "source": [
    "#c\n",
    "xvals = np.linspace(0, 5, 1e4)\n",
    "yvals1 = rec_func_vec(xvals, 1e-6)\n",
    "yvals2 = rec_func_vec(xvals, 1e-8)\n",
    "\n",
    "plt.plot(xvals, yvals1, color = 'g', label = \"$T_{n}(10^{-6})$\")\n",
    "plt.plot(xvals, yvals2, color = 'b', label = \"$T_{n}(10^{-8})$\")\n",
    "\n",
    "plt.xlabel(\"$x$\")\n",
    "plt.ylabel(\"$Function Sum$\")\n",
    "plt.legend()"
   ]
  },
  {
   "cell_type": "markdown",
   "metadata": {},
   "source": [
    "2c comments: It seems that the plots look extremely similar between both tolerance values. It also seems that the sum converges as $x$ approaches infinity."
   ]
  },
  {
   "cell_type": "markdown",
   "metadata": {
    "collapsed": true
   },
   "source": [
    "**Problem 3**: 15pts - Write a program (7pts) that generates the iterative sequence\n",
    "$$\n",
    "\\phi_{n} = a\\phi_{n-1} + b\\phi_{n-2}, ~ n\\geq 2, ~ a,b\\in \\mathbb{R}.\n",
    "$$\n",
    "Your program must take $a$, $b$, $\\phi_{0}$, $\\phi_{1}$, and the maximum value of $N$ as input, i.e. your program should produce a plot of the sequence for $0\\leq n \\leq N$.  (4pts) Generate labeled semi-log plots of $|\\phi_{n}|$ up to $N=40$ for the parameter values \n",
    "\n",
    "* $a = 1$, $b = 3$, $\\phi_{0}=1$, $\\phi_{1}=2$,\n",
    "* $a = -3$, $b = -1/2$, $\\phi_{0}=2$, $\\phi_{1}=1$.\n",
    "\n",
    "Explain the behavior you see in the graphs (4pts).  In particular, find the slope of the lines in your plots in the large $N$ limit both computationally and analytically.  Hint: In order to get the analytic result, you need to use a guess for the solution of the form \n",
    "$$\n",
    "\\phi_{n} = \\lambda^{n}.\n",
    "$$\n",
    "Then plug in your guess, and solve for $\\lambda$.  You know, like with the Fibonacci numbers."
   ]
  },
  {
   "cell_type": "code",
   "execution_count": 11,
   "metadata": {},
   "outputs": [
    {
     "data": {
      "text/plain": [
       "<matplotlib.legend.Legend at 0x11a773f60>"
      ]
     },
     "execution_count": 11,
     "metadata": {},
     "output_type": "execute_result"
    },
    {
     "data": {
      "image/png": "[encoded data removed]",
      "text/plain": [
       "<Figure size 432x288 with 1 Axes>"
      ]
     },
     "metadata": {
      "needs_background": "light"
     },
     "output_type": "display_data"
    }
   ],
   "source": [
    "#_Answer to Problem 3_\n",
    "def seq_func(a, b, phi0, phi1, n):\n",
    "    pn = np.ones(n + 1)\n",
    "    pn[0] = phi0\n",
    "    pn[1] = phi1\n",
    "    if n >= 2:\n",
    "        for jj in range(2, n + 1):\n",
    "            pn[jj] = a*pn[jj-1] + b*pn[jj-2]\n",
    "            pn[jj-2] = pn[jj-1]\n",
    "            pn[jj-1] = pn[jj]\n",
    "    return pn\n",
    "\n",
    "nvals = np.arange(0, 41)\n",
    "yvals3 = np.log10(np.abs(seq_func(1, 3, 1, 2, 40)))\n",
    "yvals4 = np.log10(np.abs(seq_func(-3, -(1/2), 2, 1, 40)))\n",
    "\n",
    "plt.plot(nvals, yvals3, label = \"$SF_{1, 3}$\")\n",
    "plt.plot(nvals, yvals4, label = \"$SF_{-3, -.5}$\")\n",
    "\n",
    "plt.xlabel(\"$x$\")\n",
    "plt.ylabel(\"$Log_{10}y$\")\n",
    "plt.legend()"
   ]
  },
  {
   "cell_type": "markdown",
   "metadata": {},
   "source": [
    "Problem 3 comments: It looks like the slope of the second set of inputs for the sequence is smaller than the first. To prove this computationally, we'll create a function that gives a rough estimate of each slope by subtracting some earlier point from the next point in the sequnce."
   ]
  },
  {
   "cell_type": "code",
   "execution_count": 12,
   "metadata": {},
   "outputs": [],
   "source": [
    "#Computational result\n",
    "def seq_func_slopea(ntrunca, n):\n",
    "    lphina = np.log10(seq_func(1, 3, 1, 2, 40))\n",
    "    lphint3 = lphina[ntrunca:]\n",
    "    nvals = np.array(range(0, n + 1))\n",
    "    nvalta = nvals[ntrunca:]\n",
    "    \n",
    "    slope3 = (lphint3[6]-lphint3[5])\n",
    "    \n",
    "    print (\"Computational slope of yvals3 is: %1.15f\" % slope3)"
   ]
  },
  {
   "cell_type": "code",
   "execution_count": 13,
   "metadata": {},
   "outputs": [],
   "source": [
    "def seq_func_slopeb(ntruncb, n):\n",
    "    lphinb = np.log10(np.abs(seq_func(-3, -(1/2), 2, 1, 40)))\n",
    "    lphint4 = lphinb[ntruncb:]\n",
    "    nvals = np.array(range(0, n + 1))\n",
    "    nvaltb = nvals[ntruncb:]\n",
    "    \n",
    "    slope4 = (lphint4[6]-lphint4[5])\n",
    "    \n",
    "    print (\"Computational slope of yvals4 is: %1.15f\" % slope4)"
   ]
  },
  {
   "cell_type": "code",
   "execution_count": 14,
   "metadata": {},
   "outputs": [
    {
     "name": "stdout",
     "output_type": "stream",
     "text": [
      "Computational slope of yvals3 is: 0.602059991327962\n",
      "Computational slope of yvals4 is: 0.544068044350276\n"
     ]
    }
   ],
   "source": [
    "seq_func_slopea(1, 40)\n",
    "seq_func_slopeb(1, 40)"
   ]
  },
  {
   "cell_type": "code",
   "execution_count": 15,
   "metadata": {},
   "outputs": [
    {
     "name": "stdout",
     "output_type": "stream",
     "text": [
      "2.302775637731995\n",
      "-1.3027756377319946\n",
      "-0.17712434446770464\n",
      "-2.8228756555322954\n"
     ]
    }
   ],
   "source": [
    "def lam_plus(a, b):\n",
    "    return (a + np.sqrt((a**2) + 4*b))/2\n",
    "\n",
    "def lam_min(a, b):\n",
    "    return (a - np.sqrt((a**2) + 4*b))/2\n",
    "\n",
    "print(lam_plus(1, 3))\n",
    "print(lam_min(1, 3))\n",
    "\n",
    "print(lam_plus(-3, -.5))\n",
    "print(lam_min(-3, -.5))"
   ]
  },
  {
   "cell_type": "markdown",
   "metadata": {},
   "source": [
    "Analytical Result\n",
    "$$\n",
    "\\phi_{n} = \\lambda^{n}\\\\\n",
    "\\phi_{n} = a\\phi_{n-1} + b\\phi_{n-2}\\\\\n",
    "\\lambda^{n} = a\\lambda^{n-1} + b\\lambda^{n-2}\\\\\n",
    "0 = \\lambda^{n} - a\\lambda^{n-1} - b\\lambda^{n-2}.\n",
    "$$\n",
    "\n",
    "$$\n",
    "\\lambda_{-}^{+} = \\frac{a_{-}^{+}\\sqrt{a^{2}+4b}}{2} \\\\\n",
    "\\lambda_{+} = \\frac{a + \\sqrt{a^{2}+4b}}{2} \\\\\n",
    "\\lambda_{-} = \\frac{a - \\sqrt{a^{2}+4b}}{2} \n",
    "$$\n",
    "\n",
    "We assume there are $ c_{0} $ and $ c_{1} $ such that $ \\phi_{n} = c_{0}\\lambda_{+}^{n} + c_{1}\\lambda_{-}^{n} $\n",
    "From this we get \n",
    "$$ \n",
    "\\begin{align}\n",
    "\\phi_{0} = & c_{0} + c_{1} \\\\\n",
    "\\phi_{1} = & c_{0}\\lambda_{+} + c_{1}\\lambda_{-}\n",
    "\\end{align}\n",
    "$$\n",
    "\n",
    "We have\n",
    "$$\n",
    "c_{0} = \\phi_{0} - c_{1} \\\\ \n",
    "$$\n",
    "\n",
    "We substitute $ \\phi_{0} - c_{1} $ for $ c_{0} $ in \n",
    "$$\n",
    "\\phi_{1} = c_{0}\\lambda_{+} + c_{1}\\lambda_{-} \\\\\n",
    "$$\n",
    "\n",
    "$$\n",
    "\\begin{align}\n",
    "\\phi_{1} = & (\\phi_{0} - c_{1})\\lambda_{+} + c_{1}\\lambda_{-} \\\\\n",
    "\\phi_{1} = & \\phi_{0}\\lambda_{+} - c_{1}\\lambda_{+} + c_{1}\\lambda_{-} \\\\\n",
    "\\phi_{1} - \\phi_{0}\\lambda_{+} = & c_{1}\\lambda_{-} - c_{1}\\lambda_{+} \\\\\n",
    "\\phi_{1} - \\phi_{0}\\lambda_{+} = & c_{1}(\\lambda_{-} - \\lambda_{+}) \\\\\n",
    "\\frac{\\phi_{1} - \\phi_{0}\\lambda_{+}}{\\lambda_{-} - \\lambda_{+}} = & c_{1} \\\\\n",
    "\\frac{-1(\\phi_{0}\\lambda_{+} - \\phi_{1})}{-1(\\lambda_{+} - \\lambda_{-})} = & c_{1} \\\\\n",
    "\\frac{\\phi_{0}\\lambda_{+} - \\phi_{1}}{\\lambda_{+} - \\lambda_{-}} = & c_{1} \\\\\n",
    "\\end{align}\n",
    "$$\n",
    "\n",
    "\n",
    "We then substitute for $ c_{1} $ into $ c_{0} = \\phi_{0} - c_{1} $\n",
    "\n",
    "$$\n",
    "\\begin{align}\n",
    "c_{0} = & \\phi_{0} - (\\frac{\\phi_{0}\\lambda_{+} - \\phi_{1}}{\\lambda_{+} - \\lambda_{-}}) \\\\\n",
    "= & \\frac{\\phi_{0}(\\lambda_{+} - \\lambda_{-})}{\\lambda_{+} - \\lambda_{-}} - \\frac{\\phi_{0}\\lambda_{+} - \\phi_{1}}{\\lambda_{+} - \\lambda_{-}}\\\\\n",
    "= & \\frac{\\phi_{1} - \\phi_{0}\\lambda_{-}}{\\lambda_{+} - \\lambda_{-}} \\\\\n",
    "\\end{align}\n",
    "$$"
   ]
  },
  {
   "cell_type": "code",
   "execution_count": 19,
   "metadata": {},
   "outputs": [
    {
     "name": "stdout",
     "output_type": "stream",
     "text": [
      "1.083974852831078\n"
     ]
    }
   ],
   "source": [
    "#test for correctness of analytical result\n",
    "\n",
    "rad13 = np.sqrt(13)\n",
    "lamp = (1 + rad13)/2\n",
    "lamm = (1 - rad13)/2\n",
    "\n",
    "phi0 = (1 - 2*lamm + lamp - 2)/(lamp - lamm)\n",
    "print(phi0)"
   ]
  },
  {
   "cell_type": "markdown",
   "metadata": {},
   "source": [
    "**Problem 4**: 15pts -  For the integral,\n",
    "$$\n",
    "\\int_{0}^{\\pi/2}\\cos(\\cos(x^{2}))dx, \n",
    "$$\n",
    "use \n",
    "\n",
    "* (7pts) a Taylor series to the third order (i.e. keep up to cubic terms) around $x=0$ to approximate the integral, \n",
    "* (6pts) a Taylor series to the third order chosen appropriately to approximate each integral on the right hand side of the expression\n",
    "\n",
    "$$\n",
    "\\int_{0}^{\\pi/2}\\cos(\\cos(x^{2}))dx = \n",
    "\\int_{0}^{\\pi/6}\\cos(\\cos(x^{2}))dx + \\int_{\\pi/6}^{\\pi/3}\\cos(\\cos(x^{2}))dx + \\int_{\\pi/3}^{\\pi/2}\\cos(\\cos(x^{2}))dx.\n",
    "$$\n",
    "\n",
    "* (2pts) Using NumPy, one can find that \n",
    "$$\n",
    "\\int_{0}^{\\pi/2}\\cos(\\cos(x^{2}))dx =  1.137063808641665\n",
    "$$\n",
    "Find the error in each of your approximations, state which is better, and explain why it is better.  "
   ]
  },
  {
   "cell_type": "code",
   "execution_count": 16,
   "metadata": {},
   "outputs": [
    {
     "name": "stdout",
     "output_type": "stream",
     "text": [
      "Single Integral Approximation 0.8487048774164866\n",
      "Error for single integral 0.2883589312251783\n",
      "Split Integral Approximation 1.2558500968398227\n",
      "Error for split integral =  0.11878628819815784\n"
     ]
    }
   ],
   "source": [
    "#_Answer to Problem 4_\n",
    "sin = np.sin\n",
    "cos = np.cos\n",
    "pi = np.pi\n",
    "Ir = 1.137063808641665\n",
    "\n",
    "def non_deriv(a):\n",
    "    return cos(cos(a**2))\n",
    "\n",
    "def first_deriv(a):\n",
    "    return 2*a*(sin(a**2))*(sin(cos(a**2)))\n",
    "\n",
    "def second_deriv(a):\n",
    "    return 2*((sin(a**2)) + 2*(a**2)*(cos(a**2)))*(sin(cos(a**2))) - 4*(a**2)*((sin(a**2))**2)*(cos(cos(a**2)))\n",
    "\n",
    "def third_deriv(a):\n",
    "    return -12*a*((sin(a**2))**2)*(cos(cos(a**2))) + 12*a*(cos(a**2))*(sin(cos(a**2))) - 8*(a**3)*((sin(a**2))**3)*(sin(cos(a**2))) - 24*(a**3)*(sin(a**2))*(cos(a**2))*(cos(cos(a**2))) - 8*(a**3)*(sin(a**2))*(sin(cos(a**2)))\n",
    "\n",
    "def I1a(v):\n",
    "    return non_deriv(0)*v + first_deriv(0)*((v**2)/2) + second_deriv(0)*((v**3)/6) + third_deriv(0)*((v**4)/24)\n",
    "\n",
    "print(\"Single Integral Approximation\", I1a(pi/2))\n",
    "errora = np.abs(Ir - (I1a(pi/2)))\n",
    "print(\"Error for single integral\", errora)\n",
    "\n",
    "I1 = (pi/6)*cos(1)\n",
    "\n",
    "def I_2(u):\n",
    "    return non_deriv(pi/6)*u + first_deriv(pi/6)*((u**2)/2) + second_deriv(pi/6)*((u**3)/6) + third_deriv(pi/6)*((u**4)/24)\n",
    "\n",
    "def I_3(w):\n",
    "    return non_deriv(pi/3)*w + first_deriv(pi/3)*((w**2)/2) + second_deriv(pi/3)*((w)/6) + third_deriv(pi/3)*((w)/24)\n",
    "\n",
    "\n",
    "In = I1 + (I_2(pi/2) - I_2(pi/3)) + (I_3((2*pi)/3) - I_3((5*pi)/6))\n",
    "Ir = 1.137063808641665\n",
    "print(\"Split Integral Approximation\", In)\n",
    "errorb = np.abs(Ir - In)\n",
    "print(\"Error for split integral = \" ,errorb)"
   ]
  },
  {
   "cell_type": "markdown",
   "metadata": {},
   "source": [
    "Problem 4 comments:\n",
    "We would use the split integral since its margin of error is less than that of the single integral. This comes as no surprise since we integrate different focal points of the 3rd order taylor series in different bounds leading up to the ending bound."
   ]
  },
  {
   "cell_type": "markdown",
   "metadata": {},
   "source": [
    "**Problem 5**: 10pts - The $(p,q)$ hypergeometric function is defined as \n",
    "$$\n",
    "_{p}F_{q}(a_{1},\\cdots,a_{p};b_{1},\\cdots,b_{q};x) = \\sum_{n=0}^{\\infty} \\frac{\\left(a_{1}\\right)_{n}\\cdots\\left(a_{p}\\right)_{n}}{\\left(b_{1}\\right)_{n}\\cdots\\left(b_{q}\\right)_{n}}\\frac{x^{n}}{n!}\n",
    "$$\n",
    "where $a_{j}\\in \\mathbb{R}$, $b_{l}\\in \\mathbb{R}$ and for any real value $a$ we have the recursion relationship\n",
    "\\begin{align*}\n",
    "(a)_{0} = & 1 \\\\\n",
    "(a)_{n} = & (a+n-1)(a)_{n-1}, ~ n\\geq 1.\n",
    "\\end{align*}\n",
    "So for example, we have that \n",
    "$$\n",
    "_{0}F_{0}(;;x) = \\sum_{n=0}^{\\infty}\\frac{1}{1}\\frac{x^{n}}{n!} = e^{x}, \n",
    "$$\n",
    "and if we have the Bessel function $J_{n}(x)$ where \n",
    "$$\n",
    "J_{n}(x) = \\sum_{m=0}^{\\infty} \\frac{(-1)^{m}}{m! (m+n)!}\\left(\\frac{x}{2} \\right)^{2m + n} = \\frac{1}{n!}\\left(\\frac{x}{2}\\right)^{n}\\sum_{m=0}^{\\infty}\\frac{1}{(n+1)_{m}}\\frac{1}{m!}\\left(\\frac{-x^{2}}{4}\\right)^{m}, \n",
    "$$\n",
    "since\n",
    "\\begin{align*}\n",
    "(m+n)! = & n!(n+1)(n+2)\\cdots(n+m) \\\\\n",
    "= &n!(n+1)(n+1 + 1)\\cdots(n+1+m-1) \\\\\n",
    "= & n!(n+1)_{m},\n",
    "\\end{align*}\n",
    "then we have \n",
    "$$\n",
    "J_{n}(x) = \\frac{1}{n!}\\left(\\frac{x}{2}\\right)^{n}  ~_{0}F_{1}\\left(;n+1;-\\frac{x^{2}}{4}\\right).\n",
    "$$\n",
    "\n",
    "Write a program which computes the $(p,q)$ hypergeometric function.  It should take as input vectors ${\\bf a}$ and ${\\bf b}$ where \n",
    "\\begin{align*}\n",
    "{\\bf a} = & (a_{1},~ a_{2},~ \\cdots,~ a_{p}) \\\\ \n",
    "{\\bf b} = & (b_{1},~ b_{2},~ \\cdots,~ b_{q}) \n",
    "\\end{align*}\n",
    "and an evaluation point $x$.  Note, your program should determine $p$ and $q$ using the length of $a$ and $b$ respectively.  Make sure you vectorize your function.  Make sure you make efficient use of recursion.  Clearly explain the stopping criteria you choose and why you choose it.  Test your code by comparing your results to those you would get using the implementation for the Bessel functions we developed in the lectures.  \n",
    "\n",
    "Then, using NumPy's version of the functions as the _true_ values, numerically prove the identity\n",
    "\n",
    "$$\n",
    "\\sin^{-1}(x) = x \\cdot _{2}F_{1}\\left(\\frac{1}{2},\\frac{1}{2};\\frac{3}{2};x^{2}\\right)\n",
    "$$\n",
    "\n",
    "Generate semi-log plots of the difference of the two functions over meshes on $[-.5,.5]$ and argue why this shows the identities are true.  Note, you may need to adapt your stopping condition to adequately answer this problem.  "
   ]
  },
  {
   "cell_type": "markdown",
   "metadata": {},
   "source": [
    "_Answer to Problem 5_"
   ]
  },
  {
   "cell_type": "code",
   "execution_count": 17,
   "metadata": {},
   "outputs": [
    {
     "ename": "UnboundLocalError",
     "evalue": "local variable 'tot' referenced before assignment",
     "output_type": "error",
     "traceback": [
      "\u001b[0;31m---------------------------------------------------------------------------\u001b[0m",
      "\u001b[0;31mUnboundLocalError\u001b[0m                         Traceback (most recent call last)",
      "\u001b[0;32m<ipython-input-17-2cedcf188049>\u001b[0m in \u001b[0;36m<module>\u001b[0;34m\u001b[0m\n\u001b[1;32m     11\u001b[0m \u001b[0;34m\u001b[0m\u001b[0m\n\u001b[1;32m     12\u001b[0m \u001b[0mNvals\u001b[0m \u001b[0;34m=\u001b[0m \u001b[0mnp\u001b[0m\u001b[0;34m.\u001b[0m\u001b[0mlinspace\u001b[0m\u001b[0;34m(\u001b[0m\u001b[0;36m0.\u001b[0m\u001b[0;34m,\u001b[0m \u001b[0;36m40.\u001b[0m\u001b[0;34m,\u001b[0m \u001b[0mint\u001b[0m\u001b[0;34m(\u001b[0m\u001b[0;36m1e4\u001b[0m\u001b[0;34m)\u001b[0m\u001b[0;34m)\u001b[0m\u001b[0;34m\u001b[0m\u001b[0;34m\u001b[0m\u001b[0m\n\u001b[0;32m---> 13\u001b[0;31m \u001b[0mmvals\u001b[0m \u001b[0;34m=\u001b[0m \u001b[0mhypgeo_func_vec\u001b[0m\u001b[0;34m(\u001b[0m\u001b[0mNvals\u001b[0m\u001b[0;34m,\u001b[0m \u001b[0mNvals\u001b[0m\u001b[0;34m)\u001b[0m\u001b[0;34m\u001b[0m\u001b[0;34m\u001b[0m\u001b[0m\n\u001b[0m",
      "\u001b[0;32m<ipython-input-17-2cedcf188049>\u001b[0m in \u001b[0;36mhypgeo_func_vec\u001b[0;34m(a, b)\u001b[0m\n\u001b[1;32m      6\u001b[0m     \u001b[0;32mfor\u001b[0m \u001b[0mnn\u001b[0m \u001b[0;32min\u001b[0m \u001b[0mrange\u001b[0m\u001b[0;34m(\u001b[0m\u001b[0;36m1\u001b[0m\u001b[0;34m,\u001b[0m \u001b[0mNvals\u001b[0m\u001b[0;34m)\u001b[0m\u001b[0;34m:\u001b[0m\u001b[0;34m\u001b[0m\u001b[0;34m\u001b[0m\u001b[0m\n\u001b[1;32m      7\u001b[0m         \u001b[0man\u001b[0m \u001b[0;34m*=\u001b[0m \u001b[0;34m(\u001b[0m\u001b[0ma\u001b[0m \u001b[0;34m+\u001b[0m \u001b[0mnn\u001b[0m \u001b[0;34m-\u001b[0m \u001b[0;36m1\u001b[0m\u001b[0;34m)\u001b[0m\u001b[0;34m/\u001b[0m\u001b[0;34m(\u001b[0m\u001b[0mb\u001b[0m \u001b[0;34m+\u001b[0m \u001b[0mnn\u001b[0m\u001b[0;34m)\u001b[0m\u001b[0;34m\u001b[0m\u001b[0;34m\u001b[0m\u001b[0m\n\u001b[0;32m----> 8\u001b[0;31m         \u001b[0mtot\u001b[0m \u001b[0;34m+=\u001b[0m \u001b[0man\u001b[0m\u001b[0;34m\u001b[0m\u001b[0;34m\u001b[0m\u001b[0m\n\u001b[0m\u001b[1;32m      9\u001b[0m         \u001b[0mnn\u001b[0m \u001b[0;34m+=\u001b[0m \u001b[0;36m1\u001b[0m\u001b[0;34m\u001b[0m\u001b[0;34m\u001b[0m\u001b[0m\n\u001b[1;32m     10\u001b[0m     \u001b[0;32mreturn\u001b[0m \u001b[0mtot\u001b[0m\u001b[0;34m\u001b[0m\u001b[0;34m\u001b[0m\u001b[0m\n",
      "\u001b[0;31mUnboundLocalError\u001b[0m: local variable 'tot' referenced before assignment"
     ]
    }
   ],
   "source": [
    "def hypgeo_func_vec(a, b):\n",
    "    a = np.ones(a.size)\n",
    "    b = np.ones(b.size)\n",
    "    Nvals = np.array(a.size) \n",
    "    an = 1\n",
    "    for nn in range(1, Nvals):\n",
    "        an *= (a + nn - 1)/(b + nn)\n",
    "        tot += an\n",
    "        nn += 1\n",
    "    return tot\n",
    "\n",
    "Nvals = np.linspace(0., 40., int(1e4))\n",
    "mvals = hypgeo_func_vec(Nvals, Nvals)"
   ]
  },
  {
   "cell_type": "code",
   "execution_count": 18,
   "metadata": {},
   "outputs": [
    {
     "data": {
      "text/plain": [
       "[<matplotlib.lines.Line2D at 0x11ab08c18>]"
      ]
     },
     "execution_count": 18,
     "metadata": {},
     "output_type": "execute_result"
    },
    {
     "data": {
      "image/png": "[encoded data removed]",
      "text/plain": [
       "<Figure size 432x288 with 1 Axes>"
      ]
     },
     "metadata": {
      "needs_background": "light"
     },
     "output_type": "display_data"
    }
   ],
   "source": [
    "def bessel_func_vec(x,n,tol):\n",
    "    tot = np.ones(x.size)\n",
    "    am = np.ones(x.size)\n",
    "    mm = 1\n",
    "    while np.max(np.abs(am)) >= tol:\n",
    "        am *= (-x**2)/((4*mm)*(mm + n))\n",
    "        tot += am\n",
    "        mm += 1\n",
    "    return tot\n",
    "\n",
    "xvals = np.linspace(0.,40.,int(1e4))\n",
    "yvals = bessel_func_vec(xvals,1,1e-7)\n",
    "\n",
    "plt.plot(xvals, yvals)"
   ]
  },
  {
   "cell_type": "code",
   "execution_count": null,
   "metadata": {},
   "outputs": [],
   "source": []
  }
 ],
 "metadata": {
  "kernelspec": {
   "display_name": "Python 3",
   "language": "python",
   "name": "python3"
  },
  "language_info": {
   "codemirror_mode": {
    "name": "ipython",
    "version": 3
   },
   "file_extension": ".py",
   "mimetype": "text/x-python",
   "name": "python",
   "nbconvert_exporter": "python",
   "pygments_lexer": "ipython3",
   "version": "3.7.3"
  }
 },
 "nbformat": 4,
 "nbformat_minor": 2
}
