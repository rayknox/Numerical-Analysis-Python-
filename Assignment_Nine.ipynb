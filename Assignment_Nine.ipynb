{
 "cells": [
  {
   "cell_type": "code",
   "execution_count": 3,
   "metadata": {},
   "outputs": [],
   "source": [
    "import numpy as np\n",
    "import matplotlib.pyplot as plt\n",
    "%matplotlib inline"
   ]
  },
  {
   "cell_type": "markdown",
   "metadata": {},
   "source": [
    "**Problem 1**: 10 pts - Here is a cubic polynomial with three closely spaced real roots:\n",
    "\n",
    "$$\n",
    "p(x) = 816x^3 - 3835x^2 + 6000x - 3125\n",
    "$$\n",
    "\n",
    "* What are the exact roots of p?\n",
    "* Plot $p(x)$ for $1.43\\leq x \\leq 1.71$.  Show the location of the three roots.  \n",
    "* Starting with $x_{0}=1.5$, what does Newton's method do?\n",
    "* Starting with $x_{0}=1$ and $x_{1}=2$, what does the secant method do?\n",
    "* Starting with the interval $[1,2]$, what does bisection do?"
   ]
  },
  {
   "cell_type": "code",
   "execution_count": 46,
   "metadata": {},
   "outputs": [
    {
     "name": "stderr",
     "output_type": "stream",
     "text": [
      "//anaconda3/lib/python3.7/site-packages/ipykernel_launcher.py:6: DeprecationWarning: object of type <class 'float'> cannot be safely interpreted as an integer.\n",
      "  \n"
     ]
    },
    {
     "data": {
      "text/plain": [
       "<matplotlib.collections.PathCollection at 0x11dbea080>"
      ]
     },
     "execution_count": 46,
     "metadata": {},
     "output_type": "execute_result"
    },
    {
     "data": {
      "image/png": "[encoded data removed]",
      "text/plain": [
       "<Figure size 432x288 with 1 Axes>"
      ]
     },
     "metadata": {
      "needs_background": "light"
     },
     "output_type": "display_data"
    }
   ],
   "source": [
    "def f(x):\n",
    "    return 816*x**3 - 3835*x**2 + 6000*x - 3125\n",
    "def zero(x):\n",
    "    return 0\n",
    "\n",
    "xvals = np.linspace(1.4, 1.72, 1e4)\n",
    "yvals = [f(xval) for xval in xvals]\n",
    "zvals = [zero(xval) for xval in xvals]\n",
    "x1 = 25/17\n",
    "x2 = 25/16\n",
    "x3 = 5/3\n",
    "plt.plot(xvals, yvals)\n",
    "plt.plot(xvals, zvals)\n",
    "plt.scatter([x1, x2, x3], [0, 0, 0], c = 'b')"
   ]
  },
  {
   "cell_type": "code",
   "execution_count": 30,
   "metadata": {},
   "outputs": [
    {
     "name": "stdout",
     "output_type": "stream",
     "text": [
      "Your root is 1.470588235275899\n",
      "1.4705882352758994\n"
     ]
    }
   ],
   "source": [
    "f = lambda x: 816*x**3 - 3835*x**2 + 6000*x - 3125\n",
    "fp = lambda x: 2448*x**2 - 7670*x + 6000\n",
    "\n",
    "def Newtons_method(f,fp,x0,tol):\n",
    "    x1 = x0 - f(x0)/fp(x0)\n",
    "    xapprox = np.array([x0,x1])\n",
    "    while np.abs(x1-x0) > tol:\n",
    "        x0 = x1\n",
    "        x1 = x0 - f(x0)/fp(x0)\n",
    "        xapprox = np.append(xapprox,x1)\n",
    "    print(\"Your root is %1.15f\" %x1)  \n",
    "    return x1\n",
    "    #rate_of_conv(xapprox)\n",
    "    \n",
    "\n",
    "print(Newtons_method(f,fp,1.5,1e-4))"
   ]
  },
  {
   "cell_type": "markdown",
   "metadata": {},
   "source": [
    "Since Newtons Method, uses the tangent line approximation to find a root, it finds the first root of $$x_{0} = \\frac{25}{17}$$ at $x_{0} = 1.5$. This is when the tangent line intersects closest to the root itself."
   ]
  },
  {
   "cell_type": "code",
   "execution_count": 29,
   "metadata": {},
   "outputs": [
    {
     "name": "stdout",
     "output_type": "stream",
     "text": [
      "1.666666666667267\n"
     ]
    }
   ],
   "source": [
    "def secant_method_mod(f,x0,x1,tol):\n",
    "    f0 = f(x0)\n",
    "    f1 = f(x1)\n",
    "    x2 = x1 - f1*(x1 - x0)/(f1 - f0)\n",
    "    xapprox = np.array([x0, x1, x2])\n",
    "    while np.abs(x1 - x0) >= tol:\n",
    "        x0 = x1\n",
    "        x1 = x2\n",
    "        f0 = f1 \n",
    "        f1 = f(x1)\n",
    "        x2 = x1 - f1*(x1 - x0)/(f1 - f0)\n",
    "        xapprox = np.append(xapprox, x2)\n",
    "    return x2\n",
    "print(secant_method_mod(f,1,2,1e-4))"
   ]
  },
  {
   "cell_type": "markdown",
   "metadata": {},
   "source": [
    "For the secant method, we use the interval given to calculate $$x_{2}$$ until the root is found."
   ]
  },
  {
   "cell_type": "code",
   "execution_count": 33,
   "metadata": {},
   "outputs": [
    {
     "name": "stdout",
     "output_type": "stream",
     "text": [
      "Our root is: 1.470588684082031\n",
      "1.4705886840820312\n"
     ]
    }
   ],
   "source": [
    "def bisec_method(a,b,f,tol):\n",
    "    d = b\n",
    "    fa,fb = f(a),f(b)\n",
    "    if fa*fb < 0:\n",
    "        c = (b+a)/2\n",
    "        capproxs = np.array([c]) # build an array to record the estimates we make for the root\n",
    "        fc = f(c)\n",
    "        while np.abs(fc) >= tol:\n",
    "            if fa*fc < 0:\n",
    "                b = c\n",
    "            else:\n",
    "                fa = fc\n",
    "                a = c\n",
    "                \n",
    "            c = (a+b)/2\n",
    "            fc = f(c)\n",
    "            capproxs = np.append(capproxs,c)\n",
    "            \n",
    "        print (\"Our root is: %1.15f\" %c)\n",
    "        return capproxs\n",
    "    else:\n",
    "        print (\"Cannot ensure existence of root.\")\n",
    "print(bisec_method(1,2,f,1e-4))"
   ]
  },
  {
   "cell_type": "markdown",
   "metadata": {},
   "source": [
    "The bisection method calculates between interval $$[a,b]$$ by continuoulsy finding midpoints and there values. If the function value switches signs, we have iterated over a root and will calculate accordingly. This is done until the function value is near zero."
   ]
  },
  {
   "cell_type": "markdown",
   "metadata": {},
   "source": [
    "**Problem 2**: 10 pts - Find the first ten positive values of $x$ such that $x = \\tan(x)$.  Explain your choice of root finding method for doing this, and explain how you are certain that you have found the first ten positive values.  "
   ]
  },
  {
   "cell_type": "code",
   "execution_count": 73,
   "metadata": {},
   "outputs": [
    {
     "name": "stderr",
     "output_type": "stream",
     "text": [
      "//anaconda3/lib/python3.7/site-packages/ipykernel_launcher.py:7: DeprecationWarning: object of type <class 'float'> cannot be safely interpreted as an integer.\n",
      "  import sys\n"
     ]
    },
    {
     "data": {
      "text/plain": [
       "(-1, 1)"
      ]
     },
     "execution_count": 73,
     "metadata": {},
     "output_type": "execute_result"
    },
    {
     "data": {
      "image/png": "[encoded data removed]",
      "text/plain": [
       "<Figure size 432x288 with 1 Axes>"
      ]
     },
     "metadata": {
      "needs_background": "light"
     },
     "output_type": "display_data"
    }
   ],
   "source": [
    "tan = np.tan\n",
    "\n",
    "t = lambda x: x - tan(x)\n",
    "def t(x):\n",
    "    return x - tan(x)\n",
    "\n",
    "xvals = np.linspace(0, 35, 1e4)\n",
    "yvals = [t(xval) for xval in xvals]\n",
    "plt.plot(xvals, yvals)\n",
    "plt.plot(xvals, zvals)\n",
    "plt.ylim(-1, 1)"
   ]
  },
  {
   "cell_type": "markdown",
   "metadata": {},
   "source": [
    "This plot shows when x - tan(x) = 0, thus showing when x = tan(x). The interval given shows at leats 10 iterations. From this point we can gain intuition about the intervals of which the roots lie on. From then on we can use the bisection method to find the exact root."
   ]
  },
  {
   "cell_type": "code",
   "execution_count": 72,
   "metadata": {},
   "outputs": [
    {
     "name": "stdout",
     "output_type": "stream",
     "text": [
      "Our root is: 4.493408203125001\n",
      "4.493408203125001\n",
      "Our root is: 7.725250244140625\n",
      "7.725250244140625\n",
      "Our root is: 10.904121398925779\n",
      "10.90412139892578\n",
      "Our root is: 14.066194152832031\n",
      "14.066194152832031\n",
      "Our root is: 17.220755004882811\n",
      "17.22075500488281\n",
      "Our root is: 20.371302795410159\n",
      "20.37130279541016\n",
      "Our root is: 23.519452667236326\n",
      "23.519452667236326\n",
      "Our root is: 26.666054153442381\n",
      "26.66605415344238\n",
      "Our root is: 29.811598815917968\n",
      "29.811598815917968\n",
      "Our root is: 32.956389007568362\n",
      "32.95638900756836\n"
     ]
    }
   ],
   "source": [
    "tp = lambda x: 1 - 1/(np.cos(x))**2\n",
    "\n",
    "\n",
    "print(bisec_method(4.4,4.5,t,1e-4))\n",
    "print(bisec_method(7.7,7.8,t,1e-4))\n",
    "print(bisec_method(10.9,10.95,t,1e-4))\n",
    "print(bisec_method(14.,14.1,t,1e-4))\n",
    "print(bisec_method(17.2,17.25,t,1e-4))\n",
    "print(bisec_method(20.3,20.4,t,1e-4))\n",
    "print(bisec_method(23.5,23.55,t,1e-4))\n",
    "print(bisec_method(26.6,26.7,t,1e-4))\n",
    "print(bisec_method(29.81,29.82,t,1e-4))\n",
    "print(bisec_method(32.95,32.96,t,1e-4))"
   ]
  },
  {
   "cell_type": "markdown",
   "metadata": {},
   "source": [
    "**Problem 3**: 10 pts - Suppose that we interpolate over three points, say $x_{j-1}$, $x_{j}$, $x_{j+1}$, with data $f_{j-1}$, $f_{j}$, and $f_{j+1}$, where our nodes are equally spaced so that \n",
    "\n",
    "$$\n",
    "\\delta x = x_{j+1} - x_{j} = x_{j} - x_{j-1}.\n",
    "$$\n",
    "\n",
    "Thus we can write \n",
    "\n",
    "$$\n",
    "x_{j+1} = x_{j} + \\delta x, ~ x_{j-1} = x_{j} - \\delta x,\n",
    "$$\n",
    "\n",
    "As we discussed in class, for an unknown function $f(x)$, we can generate an interpolatory second-order approximation $P_{2}(x)$, $f(x)\\approx P_{2}(x)$, where\n",
    "\n",
    "$$\n",
    "P_{2}(x) = f_{j-1}\\frac{(x-x_{j})(x-x_{j+1})}{(x_{j-1}-x_{j})(x_{j-1}-x_{j+1})} + f_{j}\\frac{(x-x_{j-1})(x-x_{j+1})}{(x_{j}-x_{j-1})(x_{j}-x_{j+1})} + f_{j+1}\\frac{(x-x_{j-1})(x-x_{j})}{(x_{j+1}-x_{j-1})(x_{j+1}-x_{j})}\n",
    "$$\n",
    "\n",
    "Show that \n",
    "\n",
    "* (4pts) $P_{2}(x) = \\frac{1}{2\\delta x^{2}}\\left(f_{j-1}\\tilde{x}(\\tilde{x}-\\delta x) - 2f_{j}(\\tilde{x}-\\delta x)(\\tilde{x}+\\delta x) + f_{j+1}\\tilde{x}(\\tilde{x}+\\delta x)\\right)$, $\\tilde{x} = x-x_{j}$.\n",
    "\n",
    "* (3pts) $P'_{2}(x_{j}) = \\frac{1}{2\\delta x}\\left(f_{j+1} - f_{j-1} \\right)$.  Letting $f'(x_{j})\\approx P'_{2}(x_{j})$ is known as a _centered difference_ approximation to a derivative of a function.\n",
    "\n",
    "* (3pts) $P''_{2}(x_{j}) = \\frac{1}{\\delta x^{2}}\\left(f_{j+1} - 2f_{j} + f_{j-1}\\right)$"
   ]
  },
  {
   "cell_type": "markdown",
   "metadata": {},
   "source": [
    "3a)\n",
    "$$\n",
    "\\tilde{x} = x-x_{j} \\\\\n",
    "x_{j-1} - x_{j+1} = x_{j} - \\delta x - (x_{j} + \\delta x) = -2\\delta x \\\\\n",
    "x - x_{j + 1} = \\tilde{x} + x_{j+1} - \\delta x - x_{j+1} = \\tilde{x} - \\delta x \\\\\n",
    "x - x_{j-1} = \\tilde{x} + \\delta x \\\\\n",
    "x_{j + 1} - x_{j-1} = 2 \\delta x \\\\\n",
    "$$\n",
    "\n",
    "After substitution we see that\n",
    "$$\n",
    "P_{2}(x) = f_{j-1}\\frac{(\\tilde{x})(\\tilde{x} - \\delta x)}{(-2\\delta x)^{2}} + f_{j}\\frac{(\\tilde{x} + \\delta x)(\\tilde{x} - \\delta x)}{(\\delta x)(-\\delta x)} + f_{j+1}\\frac{(\\tilde{x} + \\delta x)(\\tilde{x})}{(2\\delta x)(\\delta x )}\n",
    "$$\n",
    "\n",
    "$$\n",
    "P_{2}(x) = f_{j-1}\\frac{(\\tilde{x})(\\tilde{x} - \\delta x)}{(-2\\delta x)^{2}} + f_{j}\\frac{(\\tilde{x} + \\delta x)(\\tilde{x} - \\delta x)}{(-\\delta x)^{2}} + f_{j+1}\\frac{(\\tilde{x} + \\delta x)(\\tilde{x})}{(2\\delta x)^{2}}\n",
    "$$\n",
    "\n",
    "factoring out $\\frac{1}{2}$ we get\n",
    "$$\n",
    "P_{2}(x) = \\frac{1}{2\\delta x^{2}}\\left(f_{j-1}\\tilde{x}(\\tilde{x}-\\delta x) - 2f_{j}(\\tilde{x}-\\delta x)(\\tilde{x}+\\delta x) + f_{j+1}\\tilde{x}(\\tilde{x}+\\delta x)\\right)\n",
    "$$"
   ]
  },
  {
   "cell_type": "markdown",
   "metadata": {},
   "source": [
    "3b)\n",
    "$$\n",
    "P_{2}(x) = L_{0}(f_{j-1}) + L_{1}(f_{j}) + L_{2}(f_{j+1})\n",
    "$$\n",
    "Further we write:\n",
    "\\begin{align}\n",
    "L_{0}(x) = \\frac{(x-x_{j})(x-x_{j+1})}{(x_{j-1}-x_{j})(x_{j-1}-x_{j+1})} \\\\\n",
    "L_{1}(x) = \\frac{(x-x_{j-1})(x-x_{j+1})}{(x_{j}-x_{j-1})(x_{j}-x_{j+1})}\\\\\n",
    "L_{2}(x) = \\frac{(x-x_{j-1})(x-x_{j})}{(x_{j+1}-x_{j-1})(x_{j+1}-x_{j})}\\\\ \n",
    "\\end{align}\n",
    "We then derive the following:\n",
    "\\begin{align}\n",
    "L_{0}^{'}(x_{j}) = \\frac{2x_{j} - x_{j} - x_{j+1}}{(x_{j-1}-x_{j})(x_{j-1}-x_{j+1})}  = \\frac{x_{j} - x_{j+1}}{(x_{j-1}-x_{j})(x_{j-1}-x_{j+1})} = \\frac{-\\delta x}{(- \\delta x) (-2 \\delta x)} = -\\frac{1}{2 \\delta x}\\\\\n",
    "L_{1}^{'}(x_{j}) = \\frac{2x_{j} - x_{j-1} - x_{j+1}}{(x_{j}-x_{j-1})(x_{j}-x_{j+1})} = 0\\\\\n",
    "L_{2}^{'}(x_{j}) = \\frac{2x_{j} - x_{j-1} - x_{j}}{(x_{j+1}-x_{j-1})(x_{j+1}-x_{j})} = \\frac{x_{j} - x_{j-1}}{(x_{j+1}-x_{j-1})(x_{j+1}-x_{j})} = \\frac{\\delta x}{(2 \\delta x)( \\delta x)} = \\frac{1}{2 \\delta x}\\\\ \n",
    "\\end{align}\n",
    "Solve for the derivative for $P_{2}(x_{j})$ to get:\n",
    "$$\n",
    "P'_{2}(x_{j}) =  -\\frac{1}{2 \\delta x}(f_{j-1}) + \\frac{1}{2 \\delta x}(f_{j+1}) \n",
    "$$\n",
    "which simplified gets us:\n",
    "$$\n",
    "P'_{2}(x_{j}) = \\frac{1}{2\\delta x}\\left(f_{j+1} - f_{j-1} \\right)\n",
    "$$"
   ]
  },
  {
   "cell_type": "markdown",
   "metadata": {},
   "source": [
    "3c)\n",
    "\\begin{align}\n",
    "L_{0}^{'}(x_{j}) = \\frac{2}{(x_{j-1}-x_{j})(x_{j-1}-x_{j+1})} = \\frac{2}{(- \\delta x) (-2 \\delta x)} = \\frac{1}{\\delta x^{2}}\\\\\n",
    "L_{1}^{'}(x_{j}) = \\frac{2}{(x_{j}-x_{j-1})(x_{j}-x_{j+1})} = \\frac{2}{(\\delta x)(- \\delta x)} = \\frac{-2}{\\delta x^{2}}\\\\\n",
    "L_{2}^{'}(x_{j}) = \\frac{2}{(x_{j+1}-x_{j-1})(x_{j+1}-x_{j})} = \\frac{2}{(2 \\delta x)( \\delta x)} = \\frac{1}{\\delta x^{2}}\\\\ \n",
    "\\end{align}\n",
    "Plugging back in for $P''_{2}(x_{j})$ we get:\n",
    "$$\n",
    "P''_{2}(x_{j}) = \\frac{1}{\\delta x^{2}} (f_{j-1}) +  \\frac{-2}{\\delta x^{2}} (f_{j}) + \\frac{1}{\\delta x^{2}} (f_{j+1})\n",
    "$$\n",
    "\n",
    "$$\n",
    "P''_{2}(x_{j}) =\\frac{1}{\\delta x^{2}}\\left(f_{j+1} - 2f_{j} + f_{j-1}\\right)\n",
    "$$"
   ]
  },
  {
   "cell_type": "markdown",
   "metadata": {},
   "source": [
    "**Problem 4**: 10 pts \n",
    "* (3 pts) Using $f(x) = \\cos(x)$, determine the accuracy of your centered difference approximations for $f'(x_{j})$ and $f''(x_{j})$ with respect to the magnitude of $\\delta x$.  In other words, if we suppose that \n",
    "$$\n",
    "f'(x_{j}) = \\frac{f_{j+1}-f_{j-1}}{2\\delta x} + C\\delta x^{p},\n",
    "$$\n",
    "then find $p$.  Note, in order to measure the error in our approximations, we look at points $x_{j}\\in[0, 2\\pi]$ where $\\delta x = 2\\pi/N$ so that\n",
    "$$\n",
    "x_{j} = \\frac{2\\pi j}{N}, ~j=0, \\cdots, N.\n",
    "$$\n",
    "We plot the maximum of the absolute value of the error in our approximation over our chosen interval for increasing choices of $N$.\n",
    "\n",
    "* (3 pts) Using $P_{4}(x)$, derive a centered difference approximation for $f'(x_{j})$ using the equally spaced nodes $x_{j-2}$, $x_{j-1}$, $x_{j}$, $x_{j+1}$, $x_{j+2}$, with corresponding node spacing $\\delta x$, and corresponding data $f_{j-2}$, $f_{j-1}$, $f_{j}$, $f_{j+1}$, $f_{j+2}$.  Note, you'll need to first show that \n",
    "\\begin{multline}\n",
    "P_{4}(x) = \\frac{1}{(\\delta x)^{4}}\\left(\\frac{f_{j-2}}{4!}(\\tilde{x}+\\delta x)\\tilde{x}(\\tilde{x}-\\delta x)(\\tilde{x}-2\\delta x) -\\frac{f_{j-1}}{3!}(\\tilde{x}+2\\delta x)\\tilde{x}(\\tilde{x}-\\delta x)(\\tilde{x}-2\\delta x) + \\frac{f_{j}}{4}(\\tilde{x}+2\\delta x)(\\tilde{x}+\\delta x)(\\tilde{x}-\\delta x)(\\tilde{x}-2\\delta x)\\right.\\\\\n",
    "\\left.-\\frac{f_{j+1}}{3!}(\\tilde{x}+2\\delta x)(\\tilde{x}+\\delta x)\\tilde{x}(\\tilde{x}-2\\delta x)+ \\frac{f_{j+2}}{4!}(\\tilde{x}+2\\delta x)(\\tilde{x}+\\delta x)\\tilde{x}(\\tilde{x}-\\delta x)\\right)\n",
    "\\end{multline}\n",
    "where again $\\tilde{x}=x-x_{j}$.  I know this looks nasty, but if you see the underlying pattern, it's not nearly as bad.\n",
    "\n",
    "* (4 pts) Determine the order of accuracy of your five point approximation again using $f(x) = \\cos(x)$ using the same approach you used in the first part of this problem.  \n",
    "\n"
   ]
  },
  {
   "cell_type": "code",
   "execution_count": null,
   "metadata": {},
   "outputs": [],
   "source": []
  }
 ],
 "metadata": {
  "kernelspec": {
   "display_name": "Python 3",
   "language": "python",
   "name": "python3"
  },
  "language_info": {
   "codemirror_mode": {
    "name": "ipython",
    "version": 3
   },
   "file_extension": ".py",
   "mimetype": "text/x-python",
   "name": "python",
   "nbconvert_exporter": "python",
   "pygments_lexer": "ipython3",
   "version": "3.7.3"
  }
 },
 "nbformat": 4,
 "nbformat_minor": 2
}
