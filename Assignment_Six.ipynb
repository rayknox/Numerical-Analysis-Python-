{
 "cells": [
  {
   "cell_type": "code",
   "execution_count": 26,
   "metadata": {},
   "outputs": [],
   "source": [
    "import numpy as np\n",
    "import matplotlib.pyplot as plt\n",
    "from time import time\n",
    "%matplotlib inline"
   ]
  },
  {
   "cell_type": "code",
   "execution_count": 27,
   "metadata": {},
   "outputs": [],
   "source": [
    "def trl_dvsn(n):\n",
    "    \n",
    "    isprime = True\n",
    "    cnt = 2\n",
    "    \n",
    "    while isprime and cnt < n:\n",
    "        if n%cnt == 0:\n",
    "            isprime = False\n",
    "        else:\n",
    "            cnt += 1\n",
    "    \n",
    "    return isprime"
   ]
  },
  {
   "cell_type": "markdown",
   "metadata": {},
   "source": [
    "**Problem 1** (3pts for each part): As we covered in class, for a given natural number $n\\in \\mathbb{N}$, we say it is prime if its only divisors are $1$ and itself.  Otherwise, we say the number is composite.  Likewise, we have the _Fundamental Theorem of Arithmetic_, which says that for any $n\\in\\mathbb{N}$, $n$ has a prime factorization so that \n",
    "$$\n",
    "n = p_{1}^{k_{1}}\\cdots p_{j}^{k_{j}}, ~ k_{j}\\in \\mathbb{N}\n",
    "$$\n",
    "where each $p_{l}$ is prime and the decomposition is unique modulo rearranging the order of the terms.  Show\n",
    "\n",
    "* If $n$ is composite, show there is a prime factor $p_{j}$ such that $p_{j}\\leq\\sqrt{n}$.\n",
    "* If $n>6$ and $n$ is prime, show that there is some $k\\in\\mathbb{N}$ such that $n=6k+1$ or $n=6k+5$."
   ]
  },
  {
   "cell_type": "markdown",
   "metadata": {},
   "source": [
    "## **Problem 1**\n",
    "\n",
    "**If n is composite there is a prime factor $p_j$ such that $p_{j}\\leq\\sqrt{n}$, because:**\n",
    "if n is composite there has to be $a\\in \\mathbb{N}$ and a $b\\in \\mathbb{N}$ such that $n = a*b$ and $a, b \\in \\{1,n\\}$. Let $a\\leq b$ => $a=\\sqrt{a^{2}}\\leq \\sqrt{a*b}=\\sqrt{n}$. If $a$ is, in fact, prime, then we have proved the statement.\n",
    "If $a$ isn't prime, we'll repeat the beginning of the proof. Let there exist an $a_1\\in \\mathbb{N}$ and $a_2\\in \\mathbb{N}$ such that $a_1,a_2 \\notin \\{1,a\\}$. We continue these steps until one of the factors is prime. We call this factor $p_{j}$, note that $p_{j}\\leq a\\leq \\sqrt{n}$.\n",
    "\n",
    "**If $n>6$ and $n$ is prime, show that there is some $k\\in\\mathbb{N}$ such that $n=6k+1$ or $n=6k+5$, because:**\n",
    "\n",
    "If $n>6$ and $n$ is prime,there is no $k\\in\\mathbb{N}$ such that $n=6k+0$ or $n=6k+2$ or $n=6k+3$ or $n=6k+4$.If there was $k\\in\\mathbb{N}$ such that $n=6k+0$ that would mean that 6 | n and if $n=6k+2$ then 2 | n and if $n=6k+3$ then 3 | n and if $n=6k+4$ then 2 | n .In such cases, n would be composite. "
   ]
  },
  {
   "cell_type": "markdown",
   "metadata": {
    "collapsed": true
   },
   "source": [
    "**Problem 2** (10pts): Using the code provided below and the results from Problem 1, \n",
    "\n",
    "* Implement a better test of whether a number is prime than the simple trial division algorithm provided above at the beginning of the notebook. Briefly explain the `if n>=49 and n<121` and `elif n>=121` checks as well.  (4pts)  \n",
    "\n",
    "* Develop several test cases using both the simple algorithm and your new one to make sure your new algorithm is correct.  (3pts)\n",
    "\n",
    "* For $2\\leq n \\leq 10^{5}$, compare the difference in times between your new algorithm and the simple one.  Make a semilog plot of the time differences.  Describe any trends you see from your plot.  (3pts)"
   ]
  },
  {
   "cell_type": "code",
   "execution_count": 41,
   "metadata": {},
   "outputs": [
    {
     "name": "stdout",
     "output_type": "stream",
     "text": [
      "works\n",
      "works\n",
      "works\n",
      "works\n",
      "works\n",
      "works\n",
      "works\n",
      "works\n",
      "works\n",
      "works\n",
      "works\n",
      "works\n",
      "works\n",
      "works\n",
      "works\n",
      "works\n",
      "works\n",
      "works\n",
      "works\n",
      "works\n",
      "works\n",
      "works\n",
      "works\n",
      "works\n",
      "works\n",
      "works\n",
      "works\n",
      "works\n",
      "works\n",
      "works\n",
      "works\n",
      "works\n",
      "works\n",
      "works\n",
      "works\n",
      "works\n",
      "works\n",
      "works\n",
      "works\n",
      "works\n",
      "works\n",
      "works\n",
      "works\n",
      "works\n",
      "works\n",
      "works\n",
      "works\n",
      "works\n",
      "works\n"
     ]
    }
   ],
   "source": [
    "def bttr_trl_dvsn(n):\n",
    "    \n",
    "    isprime = True\n",
    "    nsq = np.sqrt(n)\n",
    "    \n",
    "    if n%2 == 0 or n%3 == 0 or n%5 == 0:\n",
    "        if n!=2 and n!=3 and n!=5:\n",
    "            isprime = False\n",
    "    else:\n",
    "        \n",
    "        kmax = 0\n",
    "        if n>=49 and n<121:\n",
    "            kmax = int(np.floor((nsq-1.)/6.))\n",
    "        elif n>=121:\n",
    "            kmax = int(np.floor((nsq-5.)/6.))\n",
    "        \n",
    "        if kmax > 0:\n",
    "            for kk in range(0,kmax):\n",
    "                tstnmbr = 6*(kk+1)+1\n",
    "                if n%tstnmbr == 0: # add code\n",
    "                    isprime = False# add code \n",
    "                    break\n",
    "                else:\n",
    "                    tstnmbr = 6*(kk + 1) + 5# add code\n",
    "                    if tstnmbr <= nsq:\n",
    "                        if n%tstnmbr == 0:\n",
    "                            isprime = False# add code \n",
    "                            break\n",
    "    \n",
    "    return isprime\n",
    "\n",
    "\n",
    "\n",
    "\n",
    "for n in range(50):\n",
    "    if bttr_trl_dvsn(n) == trl_dvsn(n):\n",
    "        print(\"works\")\n"
   ]
  },
  {
   "cell_type": "markdown",
   "metadata": {},
   "source": [
    "bttr_trial_division exp: we need n >= 49 and n < 121 check because their maybe a prime between\n",
    "said values that 2, 3, and 5 don't divide. So we asign  variable to account for the remainder of the proof we just did in problem 1. The elif statement for n >= 121 assigns the second formula we used in the proof."
   ]
  },
  {
   "cell_type": "code",
   "execution_count": 47,
   "metadata": {},
   "outputs": [
    {
     "data": {
      "text/plain": [
       "<matplotlib.legend.Legend at 0x123bf3ba8>"
      ]
     },
     "execution_count": 47,
     "metadata": {},
     "output_type": "execute_result"
    },
    {
     "data": {
      "image/png": "[encoded data removed]",
      "text/plain": [
       "<Figure size 432x288 with 1 Axes>"
      ]
     },
     "metadata": {
      "needs_background": "light"
     },
     "output_type": "display_data"
    }
   ],
   "source": [
    "# Timing code skeleton\n",
    "nmax = int(1e5) # This will take a second to run. \n",
    "nvals = np.arange(2,nmax+1)\n",
    "nlen = nvals.size\n",
    "timesstd = np.zeros(nlen)\n",
    "timesbtr = np.zeros(nlen)\n",
    "\n",
    "for jj in range(nlen):\n",
    "    start = time()# add code\n",
    "    trl_dvsn(nlen)# add code\n",
    "    end = time()# add code \n",
    "    timesstd[jj] = end-start\n",
    "    \n",
    "    start = time()# add code\n",
    "    bttr_trl_dvsn(nlen)# add code\n",
    "    end = time()# add cpde \n",
    "    timesbtr[jj] = end-start\n",
    "    \n",
    "plt.scatter(nvals,np.ma.log10(timesstd), color='k', label = \"$standard-function$\")\n",
    "plt.scatter(nvals,np.ma.log10(timesbtr), color='r', label = \"$better-function$\")\n",
    "plt.xlabel(\"$test-number$\")\n",
    "plt.ylabel(\"$log-time-to-test-variable$\")\n",
    "plt.legend()\n",
    "# add labels and all those wonderful things "
   ]
  },
  {
   "cell_type": "markdown",
   "metadata": {},
   "source": [
    "scatter plot description: It seems that we are able to compute more values at a greater speed  as we take let n get large in the better function. We also see the time to run the better function caps out faster than standard function."
   ]
  }
 ],
 "metadata": {
  "kernelspec": {
   "display_name": "Python 3",
   "language": "python",
   "name": "python3"
  },
  "language_info": {
   "codemirror_mode": {
    "name": "ipython",
    "version": 3
   },
   "file_extension": ".py",
   "mimetype": "text/x-python",
   "name": "python",
   "nbconvert_exporter": "python",
   "pygments_lexer": "ipython3",
   "version": "3.7.3"
  }
 },
 "nbformat": 4,
 "nbformat_minor": 2
}
