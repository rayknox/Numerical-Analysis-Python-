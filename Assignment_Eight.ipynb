{
 "cells": [
  {
   "cell_type": "code",
   "execution_count": 1,
   "metadata": {},
   "outputs": [],
   "source": [
    "import numpy as np\n",
    "import matplotlib.pyplot as plt\n",
    "%matplotlib inline"
   ]
  },
  {
   "cell_type": "code",
   "execution_count": 2,
   "metadata": {},
   "outputs": [],
   "source": [
    "def adap_quad_comp(f,a,b,c,fa,fb,fc,Aab,tol):    \n",
    "    d = (a+c)/2.\n",
    "    e = (b+c)/2.\n",
    "    fd = f(d)\n",
    "    fe = f(e)\n",
    "    dx3 = (d-a)/3.\n",
    "    Aac = dx3*(fa+4.*fd+fc)\n",
    "    Acb = dx3*(fc+4.*fe+fb)\n",
    "    if np.abs(Aab-(Aac+Acb))<=tol: \n",
    "        return (16./15.*(Aac+Acb)-Aab/15.)\n",
    "    else:  \n",
    "        F1 = adap_quad_comp(f,a,c,d,fa,fc,fd,Aac,tol)\n",
    "        F2 = adap_quad_comp(f,c,b,e,fc,fb,fe,Acb,tol)\n",
    "        return F1 + F2\n",
    "    \n",
    "def adap_quad(f,a,b,tol):\n",
    "    c = (a+b)/2.\n",
    "    fa = f(a)\n",
    "    fb = f(b)\n",
    "    fc = f(c)\n",
    "    dx3 = (c-a)/3.\n",
    "    Aab = dx3*(fa+4.*fc+fb)\n",
    "    ival = adap_quad_comp(f,a,b,c,fa,fb,fc,Aab,tol)    \n",
    "    return ival"
   ]
  },
  {
   "cell_type": "markdown",
   "metadata": {},
   "source": [
    "**Problem 1**: (5 pts) Use the adaptive quadrature algorithm to evaluate \n",
    "\n",
    "$$\n",
    "\\int_{-1}^{2} \\frac{dt}{\\sin\\left(\\sqrt{|t|} \\right)}.\n",
    "$$\n",
    "\n",
    "State how you arrive at your result i.e. what tolerances do you choose and what degree of accuracy can you argue that they provide you?  Why do you not encounter divide-by-zero difficulties at $t=0$?"
   ]
  },
  {
   "cell_type": "code",
   "execution_count": 3,
   "metadata": {},
   "outputs": [
    {
     "name": "stdout",
     "output_type": "stream",
     "text": [
      "For tol=1.00e-09 we get the approximation: 5.314115608654129\n",
      "For tol=1.00e-10 we get the approximation: 5.314115610156215\n",
      "For tol=1.00e-11 we get the approximation: 5.314115610277123\n",
      "For tol=1.00e-12 we get the approximation: 5.314115610287189\n",
      "For tol=1.00e-13 we get the approximation: 5.314115610288649\n",
      "For tol=1.00e-14 we get the approximation: 5.314115610288759\n",
      "For tol=1.00e-15 we get the approximation: 5.314115610288775\n",
      "For tol=1.00e-16 we get the approximation: 5.314115610288777\n",
      "For tol=1.00e-17 we get the approximation: 5.314115610288777\n",
      "For tol=1.00e-18 we get the approximation: 5.314115610288777\n"
     ]
    }
   ],
   "source": [
    "f = lambda x : 1/np.sin(np.sqrt(np.abs(x)))\n",
    "tola = 1e-9\n",
    "for jj in range(1, 11):\n",
    "    adquadval = adap_quad(f,-1 ,2 ,tola)\n",
    "    print(\"For tol=%1.2e we get the approximation: %1.15f\" % (tola, adquadval))\n",
    "    tola *= .1"
   ]
  },
  {
   "cell_type": "markdown",
   "metadata": {},
   "source": [
    "Explanation: I used a set of tolerances ranging from 1e-9 to 1e-18 to effectively integrate the function to at least 7 digits of accuracy. In the adap quad algorithm we never actually divide by zero. We do series of dividing two points by 2 so we never actually divide by zero in the evaluation."
   ]
  },
  {
   "cell_type": "markdown",
   "metadata": {},
   "source": [
    "**Problem 2**: (5 pts) Write a recursive program which computes $\\begin{pmatrix} n \\\\ k \\end{pmatrix}$ where for $0\\leq k \\leq n$\n",
    "\n",
    "$$\n",
    "\\begin{pmatrix} n \\\\ k \\end{pmatrix} = \\frac{n!}{k!(n-k)!},\n",
    "$$\n",
    "\n",
    "using the formula \n",
    "\n",
    "$$\n",
    "\\begin{pmatrix} n \\\\ k \\end{pmatrix} = \\begin{pmatrix} n-1 \\\\ k \\end{pmatrix} + \\begin{pmatrix} n-1 \\\\ k-1 \\end{pmatrix}\n",
    "$$\n",
    "\n",
    "Provide two examples which show your implementation is correct.  "
   ]
  },
  {
   "cell_type": "code",
   "execution_count": 4,
   "metadata": {},
   "outputs": [],
   "source": [
    "def factorial(n):\n",
    "    if n == 0:\n",
    "        return 1\n",
    "    else:\n",
    "        return n*factorial(n - 1)\n",
    "\n",
    "def comb_func(n, k):\n",
    "    if k == 0:\n",
    "        return 1\n",
    "    else:\n",
    "        return (factorial(n - 1))/(factorial(k)*factorial(n - 1 - k)) + (factorial(n - 1))/(factorial(k - 1)*factorial(n - k))\n",
    "                "
   ]
  },
  {
   "cell_type": "code",
   "execution_count": 5,
   "metadata": {},
   "outputs": [
    {
     "name": "stdout",
     "output_type": "stream",
     "text": [
      "10.0\n",
      "210.0\n"
     ]
    }
   ],
   "source": [
    "print(comb_func(5,3))\n",
    "print(comb_func(10,6))"
   ]
  },
  {
   "cell_type": "markdown",
   "metadata": {},
   "source": [
    "**Problem 3**: (10 pts) The Hermite polynomials $H_{n}(x)$ are such that $H_{0}(x)=1$, $H_{1}(x)=2x$, and for $n\\geq2$, $H_{n}(x)$ satisfies the recurrence relationship\n",
    "\n",
    "$$\n",
    "H_{n}(x) = 2xH_{n-1}(x) -2(n-1)H_{n-2}(x), ~ n\\geq 2. \n",
    "$$\n",
    "\n",
    "* (6 pts) Write a recursive program to find any Hermite polynomial $H_{n}(x)$.\n",
    "* (4 pts) Generate a plot of the first six Hermite polyonmials on the interval $-2\\leq x \\leq 2$.  Your figure should be labeled, have a legend, and different colors should be used to distinguish the different Hermite polynmials in the plot.  "
   ]
  },
  {
   "cell_type": "code",
   "execution_count": 16,
   "metadata": {},
   "outputs": [
    {
     "data": {
      "text/plain": [
       "Text(0, 0.5, '$H_n(x)$')"
      ]
     },
     "execution_count": 16,
     "metadata": {},
     "output_type": "execute_result"
    },
    {
     "data": {
      "image/png": "[encoded data removed]",
      "text/plain": [
       "<Figure size 432x288 with 1 Axes>"
      ]
     },
     "metadata": {
      "needs_background": "light"
     },
     "output_type": "display_data"
    }
   ],
   "source": [
    "def herm_func(n,x):\n",
    "    h0 = 1\n",
    "    h1 = 2*x\n",
    "    if n == 0:\n",
    "        return h0\n",
    "    if n == 1:\n",
    "        return h1\n",
    "    if n >=2:\n",
    "        j = 2\n",
    "        while j <= n:\n",
    "            hn = 2*x*h1-2*(n-1)*h0\n",
    "            h0 = h1\n",
    "            h1 = hn\n",
    "           \n",
    "           \n",
    "            j += 1\n",
    "        return Hn\n",
    "\n",
    "xvals = np.linspace(-2.,2., int(1e3))\n",
    "yvals0 = [Hermite_polynomial(0,xval) for xval in xvals]\n",
    "yvals1 = [Hermite_polynomial(1,xval) for xval in xvals]\n",
    "yvals2 = [Hermite_polynomial(2,xval) for xval in xvals]\n",
    "yvals3 = [Hermite_polynomial(3,xval) for xval in xvals]\n",
    "yvals4 = [Hermite_polynomial(4,xval) for xval in xvals]\n",
    "yvals5 = [Hermite_polynomial(5,xval) for xval in xvals]\n",
    "\n",
    "plt.plot(xvals, yvals0, label = 'n=0')\n",
    "plt.plot(xvals, yvals1, label = 'n=1')\n",
    "plt.plot(xvals, yvals2, label = 'n=2')\n",
    "plt.plot(xvals, yvals3, label = 'n=3')\n",
    "plt.plot(xvals, yvals4, label = 'n=4')\n",
    "plt.plot(xvals, yvals5, label = 'n=5')\n",
    "plt.legend()\n",
    "\n",
    "plt.xlabel('$x$')\n",
    "plt.ylabel('$H_n(x)$')"
   ]
  },
  {
   "cell_type": "markdown",
   "metadata": {
    "collapsed": true
   },
   "source": [
    "**Problem 4** : (5 pts) Suppose that for two football teams, the probability, $P$, that team A will beat team B is given by \n",
    "$$\n",
    "P = \\frac{1+p}{2}\\left(\\frac{p}{1-p+p^{2}} \\right)^{21}\n",
    "$$\n",
    "where $p$ is the probability that team A punts on a fourth down (ok, I really know nothing about football, but I think that kind of makes sense...)  Determine to within $10^{-3}$ the minimal value of $p$ that will ensure that team $A$ beats team $B$ at least half of the time."
   ]
  },
  {
   "cell_type": "code",
   "execution_count": 7,
   "metadata": {},
   "outputs": [],
   "source": [
    "def bisec_method(a,b,f,tol):\n",
    "    d = b\n",
    "    fa,fb = f(a),f(b)\n",
    "    if fa*fb < 0:\n",
    "        c = (b+a)/2\n",
    "        capproxs = np.array([c]) # build an array to record the estimates we make for the root\n",
    "        fc = f(c)\n",
    "        while np.abs(fc) >= tol:\n",
    "            if fa*fc < 0:\n",
    "                b = c\n",
    "            else:\n",
    "                fa = fc\n",
    "                a = c\n",
    "                \n",
    "            c = (a+b)/2\n",
    "            fc = f(c)\n",
    "            capproxs = np.append(capproxs,c)\n",
    "            \n",
    "        print (\"Our root is: %1.15f\" %c)\n",
    "        #return capproxs\n",
    "    else:\n",
    "        print (\"Cannot ensure existence of root.\")"
   ]
  },
  {
   "cell_type": "code",
   "execution_count": 8,
   "metadata": {},
   "outputs": [],
   "source": [
    "def prob_func(p):\n",
    "    return((1+p)/2)*(p/(1 - p + p**2))**21 - 0.5"
   ]
  },
  {
   "cell_type": "code",
   "execution_count": 9,
   "metadata": {},
   "outputs": [
    {
     "name": "stdout",
     "output_type": "stream",
     "text": [
      "Our root is: 0.842285156250000\n",
      "None\n"
     ]
    }
   ],
   "source": [
    "print(bisec_method(0,1,prob_func,1e-3))"
   ]
  },
  {
   "cell_type": "markdown",
   "metadata": {},
   "source": [
    "**Problem 5** : (10 pts) Using Newton's method, explain why the sequence \n",
    "$$\n",
    "x_{n} = \\frac{1}{2}x_{n-1} + \\frac{A}{2x_{n-1}}, ~ n\\geq1, ~ x_{0}>0,  \n",
    "$$\n",
    "converges to $\\sqrt{A}$ (4 pts).  Hint, you need to think of a function whose root is $\\sqrt{A}$.  Implement the method and characterize for various values of $x_{0}$ how quickly the method converges. (6 pts)"
   ]
  },
  {
   "cell_type": "code",
   "execution_count": 19,
   "metadata": {},
   "outputs": [
    {
     "name": "stdout",
     "output_type": "stream",
     "text": [
      "Your root is 2.000000000000000\n",
      "[4.         2.5        2.05       2.00060976 2.00000009 2.\n",
      " 2.        ]\n",
      "Your root is 2.000000000000000\n",
      "Your root is 2.000000000000000\n",
      "Your root is 2.000000000000000\n",
      "Your root is 2.000000000000000\n"
     ]
    },
    {
     "data": {
      "text/plain": [
       "<matplotlib.legend.Legend at 0x112647860>"
      ]
     },
     "execution_count": 19,
     "metadata": {},
     "output_type": "execute_result"
    },
    {
     "data": {
      "image/png": "[encoded data removed]",
      "text/plain": [
       "<Figure size 432x288 with 1 Axes>"
      ]
     },
     "metadata": {
      "needs_background": "light"
     },
     "output_type": "display_data"
    }
   ],
   "source": [
    "def Newtons_method(f,fp,x0,tol):\n",
    "    x1 = x0 - f(x0)/fp(x0) \n",
    "    xapprox = np.array([x0,x1])\n",
    "    while np.abs(x1-x0) >=tol:\n",
    "        x0 = x1\n",
    "        x1 = x0 - f(x0)/fp(x0)\n",
    "        xapprox = np.append(xapprox,x1)\n",
    "    print (\"Your root is %1.15f\" %x1)\n",
    "    return xapprox\n",
    "\n",
    "def rate_of_conv(capproxs):\n",
    "    tterms = capproxs.size                  \n",
    "    cstar = capproxs[tterms-1]\n",
    "    cnp1 = np.log10(np.abs(capproxs[1:tterms-1] - cstar))   \n",
    "    cn = np.log10(np.abs(capproxs[0:tterms-2] - cstar))        \n",
    "    ftprms = np.polyfit(cn, cnp1, 1)\n",
    "    \n",
    "    plt.scatter(cn, cnp1)\n",
    "    plt.plot(cn,(ftprms[0]*cn + ftprms[1]))\n",
    "    plt.xlabel(\"$\\log_{10}|c_{n}-c_{*}|$\")\n",
    "    plt.ylabel(\"$\\log_{10}|c_{n+1}-c_{*}|$\")\n",
    "\n",
    "A=4\n",
    "print(Newtons_method(f,fp,A,1e-8))\n",
    "\n",
    "f = lambda x: x**2.-4.\n",
    "fp = lambda x: 2.*x\n",
    "\n",
    "rate_of_conv(Newtons_method(f,fp,1.9,1e-6))\n",
    "rate_of_conv(Newtons_method(f,fp,3,1e-6))\n",
    "rate_of_conv(Newtons_method(f,fp,5,1e-6))\n",
    "rate_of_conv(Newtons_method(f,fp,10,1e-6))\n",
    "\n",
    "plt.legend(('x0=1.9', 'x0=3', 'x0=5', 'x0=10'), loc= 'best')"
   ]
  },
  {
   "cell_type": "markdown",
   "metadata": {},
   "source": [
    "Let there be a function that has root\n",
    "$$\n",
    "x_n = \\sqrt{A} \\\\\n",
    "x_n^{2} = A \\\\\n",
    "x_n^{2} - A = 0 \\\\\n",
    "$$\n",
    "\n",
    "We end with $ f(x) = x_n^{2} - A $ meaning $f'(x)=2x_n$ \n",
    "\n",
    "Using Newtons Method:\n",
    "$$\n",
    "\\begin{align}\n",
    "x_n = & x_{n-1} - \\frac{(x_{n-1})^{2} - A}{2(x_{n-1})} \\\\\n",
    "= & \\frac{2(x_{n}-1)^{2} - (x_{n-1})^{2} + A}{2(x_{n-1})} \\\\\n",
    "= &\\frac{(x_{n-1})^{2}+A}{2(x_{n-1})} \\\\\n",
    "= &\\frac{(x_{n-1})^{2}}{2(x_{n-1})} + \\frac{A}{2(x_{n-1})} \\\\\n",
    "= &\\frac{1}{2}x_{n-1} + \\frac{A}{2x_{n-1}}\\\\\n",
    "\\end{align}\n",
    "$$"
   ]
  },
  {
   "cell_type": "markdown",
   "metadata": {},
   "source": [
    "**Problem 6**: (5pts) In class for a root $x_{\\ast}$ of $f(x)$, i.e. $f(x_{\\ast})=0$, if $x_{0}$ is chosen \"close\" to $x_{\\ast}$, then the sequence $\\left\\{x_{n}\\right\\}_{n=0}^{\\infty}$  where \n",
    "\n",
    "$$\n",
    "x_{n+1} = g\\left(x_{n}\\right), ~ g(x) = x - \\frac{f(x)}{f'(x)}, ~ n\\geq 0.\n",
    "$$\n",
    "\n",
    "should converge to $x_{\\ast}$.  The question is how quickly.  So supposing that $f'(x_{\\ast})\\neq 0$ show \n",
    "\n",
    "* $g(x_{\\ast}) = x_{\\ast}$ (thus making $x_{\\ast}$ a fixed point of $g(x)$)\n",
    "* $g'(x_{\\ast}) = 0$\n",
    "* $x_{n+1} - x_{\\ast} = \\frac{1}{2}g''(x_{\\ast})\\left(x_{n}-x_{\\ast}\\right)^{2} + \\mathcal{O}(\\left(x_{n}-x_{\\ast}\\right)^{3})$\n",
    "\n",
    "From this, infer that the rate of convergence (see the class notes for a definition of rate of convergence) for Newton's method is $\\alpha = 2$."
   ]
  },
  {
   "cell_type": "markdown",
   "metadata": {},
   "source": [
    "#6 Answer:\n",
    "From lecture we see that $ \\lim_{n\\rightarrow \\infty}\\frac{|c_{n+1} - c_{*}|}{|c_{n} - c_{*}|^{\\alpha}} = \\lambda $ and $ |c_{n+1} - c_{*}| \\approx \\lambda|c_{n} - c_{*}|^{\\alpha} $\n",
    "\n",
    "In this specific example, we see the Taylor Series Expansion as $ x_{n+1} - x_{\\ast} = \\frac{1}{2}g''(x_{\\ast})\\left(x_{n}-x_{\\ast}\\right)^{2} + \\mathcal{O}(\\left(x_{n}-x_{\\ast}\\right)^{3}) $.\n",
    "\n",
    "\n",
    "We let $ \\frac{1}{2}g''(x_{\\ast}) = \\lambda $ and $ x_{n+1} - x_{*} = |c_{n+1} - c_{*}| $ and $ |c_{n} - c_{*}|^{\\alpha} = (x_{n} - x_{*})^{2} $\n",
    "\n",
    "If this is the case, $ |c_{n} - c_{*}|^{\\alpha} = (x_{n} - x_{*})^{2} $ suggests that $\\alpha = 2 $."
   ]
  },
  {
   "cell_type": "markdown",
   "metadata": {},
   "source": [
    "**Problem 7**: (10 pts) In many cases, getting convergence rates via pen and paper is tricky.  However, we can often readily find them via numerical simulation.  \n",
    "\n",
    "a.) (4 pts) For \n",
    "$$\n",
    "f(x) = x\\cos(x) - \\sin^{2}(x), \n",
    "$$\n",
    "find all the roots on the interval $[0,5]$ using Newton's method with a tolerance of $10^{-6}$.\n",
    "\n",
    "\n",
    "b.) (6 pts) For each root, establish that the rate of convergence is quadratic.  Note, to do this, you will need to save the various points generated by Newton's method in an array.  You will need to find the fixed point.  Then, you should note that if \n",
    "$$\n",
    "\\lim_{n\\rightarrow \\infty}\\frac{|x_{n+1}-x_{\\ast}|}{|x_{n}-x_{\\ast}|^{\\alpha}} = \\lambda, \n",
    "$$  \n",
    "then for $n$ large\n",
    "$$\n",
    "\\ln |x_{n+1}-x_{\\ast}| \\sim \\alpha \\ln |x_{n}-x_{\\ast}| + \\ln \\lambda\n",
    "$$\n",
    "So, then you should be thinking about the slope of a line in a log/log plot.  \n",
    "\n",
    "Please provide a well-labeled and well-explained figure describing the rate of convergence for each fixed point.  Does your rate change based on your initial guess?  Again, please elaborate and show plots to make your case."
   ]
  },
  {
   "cell_type": "code",
   "execution_count": 12,
   "metadata": {},
   "outputs": [
    {
     "name": "stdout",
     "output_type": "stream",
     "text": [
      "Your root is 0.000000000000000\n",
      "[0. 0.]\n",
      "Your root is 0.846446354857408\n",
      "[1.         0.86139958 0.84664824 0.84644639 0.84644635]\n",
      "Your root is 4.909534391393232\n",
      "[5.         4.91128635 4.9095352  4.90953439]\n"
     ]
    }
   ],
   "source": [
    "cos = np.cos\n",
    "sin = np.sin\n",
    "f = lambda x: x*cos(x) - (sin(x))**2.\n",
    "fp = lambda x: cos(x) -x*sin(x) - 2.*sin(x)*cos(x)\n",
    "\n",
    "def Newtons_method(f,fp,x0,tol):\n",
    "    x1 = x0 - f(x0)/fp(x0)\n",
    "    xapprox = np.array([x0,x1])\n",
    "    while np.abs(x1-x0) > tol:\n",
    "        x0 = x1\n",
    "        x1 = x0 - f(x0)/fp(x0)\n",
    "        xapprox = np.append(xapprox,x1)\n",
    "    print(\"Your root is %1.15f\" %x1)  \n",
    "    return xapprox\n",
    "\n",
    "print(Newtons_method(f,fp,0,1e-6))\n",
    "print(Newtons_method(f,fp,1,1e-6))\n",
    "print(Newtons_method(f,fp,5,1e-6))"
   ]
  },
  {
   "cell_type": "code",
   "execution_count": 13,
   "metadata": {},
   "outputs": [],
   "source": [
    "def rate_of_conv(capproxs):\n",
    "    tterms = capproxs.size \n",
    "    cstar = capproxs[tterms - 1]\n",
    "    cnp1 = np.log10(np.abs(capproxs[1:tterms - 1] - cstar))\n",
    "    cn = np.log10(np.abs(capproxs[0:tterms - 2] - cstar))\n",
    "    ftprms = np.polyfit(cn, cnp1, 1)\n",
    "    print(\"Intercept value: %1.15f\" %10.**(ftprms[1]))\n",
    "    print(\"Slope value: %1.15f\" %ftprms[0])\n",
    "    \n",
    "    plt.scatter(cn, cnp1)\n",
    "    plt.plot(cn,(ftprms[0]*cn+ftprms[1]))\n",
    "    plt.xlabel(\"$\\log_{10}|c_{n}-c_{*}|$\")\n",
    "    plt.ylabel(\"$\\log_{10}|c_{n+1}-c_{*}|$\")"
   ]
  },
  {
   "cell_type": "code",
   "execution_count": 14,
   "metadata": {},
   "outputs": [
    {
     "name": "stdout",
     "output_type": "stream",
     "text": [
      "Your root is 0.846446354857408\n",
      "Intercept value: 0.628136485888600\n",
      "Slope value: 1.946743751350857\n",
      "Your root is 4.909534391393232\n",
      "Intercept value: 0.188924218963172\n",
      "Slope value: 1.947993686023944\n"
     ]
    },
    {
     "data": {
      "image/png": "[encoded data removed]",
      "text/plain": [
       "<Figure size 432x288 with 1 Axes>"
      ]
     },
     "metadata": {
      "needs_background": "light"
     },
     "output_type": "display_data"
    }
   ],
   "source": [
    "rate_of_conv(Newtons_method(f,fp,1,1e-6))\n",
    "rate_of_conv(Newtons_method(f,fp,5,1e-6))"
   ]
  },
  {
   "cell_type": "markdown",
   "metadata": {},
   "source": [
    "Using different $ x_{*} $'s may change the value of the rate slightly, however the rate of converegence will always hover around 2. This suggests that the convergence is quadratic."
   ]
  }
 ],
 "metadata": {
  "kernelspec": {
   "display_name": "Python 3",
   "language": "python",
   "name": "python3"
  },
  "language_info": {
   "codemirror_mode": {
    "name": "ipython",
    "version": 3
   },
   "file_extension": ".py",
   "mimetype": "text/x-python",
   "name": "python",
   "nbconvert_exporter": "python",
   "pygments_lexer": "ipython3",
   "version": "3.7.3"
  }
 },
 "nbformat": 4,
 "nbformat_minor": 2
}
