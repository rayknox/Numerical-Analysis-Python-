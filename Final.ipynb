{
 "cells": [
  {
   "cell_type": "code",
   "execution_count": 1,
   "metadata": {},
   "outputs": [],
   "source": [
    "import numpy as np\n",
    "import matplotlib.pyplot as plt\n",
    "from scipy.sparse import spdiags\n",
    "from scipy.sparse.linalg import spsolve\n",
    "from scipy.sparse.linalg import eigsh\n",
    "from scipy.sparse import identity as sid\n",
    "%matplotlib inline"
   ]
  },
  {
   "cell_type": "markdown",
   "metadata": {},
   "source": [
    "# DUE 12/18/19, by 5:00 PM"
   ]
  },
  {
   "cell_type": "markdown",
   "metadata": {},
   "source": [
    "**Problem 1**: (20pts) In quantum mechanics, it is really common to see boundary value problems of the form \n",
    "\n",
    "$$\n",
    "-\\epsilon\\frac{d^{2}y}{dx^2} + \\cos(\\pi x)y = Ey, ~ y(-1) = y(1).\n",
    "$$\n",
    "\n",
    "where $0\\leq \\epsilon \\ll 1$, i.e. we let $\\epsilon$ be a small positive parameter.  $E\\geq 0$ is the _energy_ of a particle trapped in an oscillating potential well $V(x) = \\cos(\\pi x)$, which is formed in crystal lattices of metals.  We likewise use _periodic-boundary conditions_ by setting \n",
    "\n",
    "$$\n",
    "y(-1) = y(1).\n",
    "$$\n",
    "\n",
    "We desribe the probability of a particle being in the interval $[-1,a]$, $a<1$ via the formula\n",
    "\n",
    "$$\n",
    "P(-1\\leq x \\leq a) = \\int_{-1}^{a} \\tilde{y}(x), ~ \\tilde{y}(x) = \\frac{y^{2}(x)}{\\int_{-1}^{1}y^{2}(x)dx}\n",
    "$$\n",
    "\n",
    "1a) Using second-order centered-difference approximations and spdiags, write code which discretizes the operator $-\\epsilon\\frac{d^{2}y}{dx^2} + \\cos(\\pi x)y\\approx A{\\bf y}$, where ${\\bf y}=\\left(y_{1} ~y_{2}\\cdots y_{N-1}\\right)^{T}$, $y_{j}=y(x_{j})$.  Note, the periodic boundary conditions are implemented as \n",
    "\n",
    "$$\n",
    "y_{0} = y_{N-1}, ~ y_{N} = y_{1}.\n",
    "$$\n",
    "\n",
    "1b) You have now formed a discrete eigenvalue problem $A{\\bf y} = E{\\bf y}$.  Using the code below find the first 10 eigenvalues of the discretized equations.  For $\\epsilon=1,.1,.01$ and $.001$, describe via a well designed plot how the first ten energy levels change as you decrease $\\epsilon$.  \n",
    "\n",
    "1c) For $\\epsilon=.01$, compare the associated probability distributions $\\tilde{y}(x)$ for the first three energy levels.  How do the likelihoods of where a particle would be found change with changing energy?   "
   ]
  },
  {
   "cell_type": "markdown",
   "metadata": {},
   "source": [
    "1a)\n",
    "\n",
    "\n",
    "\n",
    "$$\n",
    "\\frac{-\\epsilon}{(dx)^{2}}(y_{j-1} - 2y_{j} + y_{j+1}) + \\cos(\\pi x_{j})y_{j} = Ey_{j}\n",
    "$$\n",
    "\n",
    "\n",
    "\n",
    "\n",
    "\n",
    "\n",
    "\n",
    "$$\n",
    "\\frac{-\\epsilon}{(dx)^{2}} \\begin{pmatrix} -2 & 1 & & &1\\\\ 1 & -2 & 1 \\\\\n",
    " & & \\ddots & & \\\\ & & 1 & -2 & 1\\\\\n",
    " 1& & & 1 & -2\n",
    "\\end{pmatrix} \\begin{pmatrix} y_{1} \\\\ \\vdots \\\\ y_{n-1} \\end{pmatrix} + \\begin{pmatrix} \\cos(\\pi x_{1}) & &\\\\\n",
    " &  \\ddots  & \\\\\n",
    " & & \\cos(\\pi x_{n-1})\n",
    " \\end{pmatrix} \\begin{pmatrix} y_{1} \\\\ \\vdots \\\\ y_{n-1} \\end{pmatrix} = E * \\begin{pmatrix} y_{1} \\\\ \\vdots \\\\ y_{n-1} \\end{pmatrix}\n",
    "$$"
   ]
  },
  {
   "cell_type": "code",
   "execution_count": 2,
   "metadata": {},
   "outputs": [
    {
     "data": {
      "text/plain": [
       "Text(0, 0.5, '$E_{n}$')"
      ]
     },
     "execution_count": 2,
     "metadata": {},
     "output_type": "execute_result"
    },
    {
     "data": {
      "image/png": "[encoded data removed]",
      "text/plain": [
       "<Figure size 432x288 with 1 Axes>"
      ]
     },
     "metadata": {
      "needs_background": "light"
     },
     "output_type": "display_data"
    }
   ],
   "source": [
    "def eval_find(Nvls,xvals,epvl):\n",
    "    Nint = int(Nvls)\n",
    "    dx = 2./Nvls# you add code here\n",
    "    idx2 = 1./(dx*dx)# you add code here\n",
    "    \n",
    "    diag = -2. *-epvl*idx2*np.ones(Nint-1) + np.cos(np.pi*(xvals[1:Nint]))# you add code here\n",
    "    odiag = -epvl*idx2*np.ones(Nint-1)# you add code here\n",
    "    oudiag = -epvl*idx2*np.ones(Nint-1)# you add code here\n",
    "    oldiag = -epvl*idx2*np.ones(Nint-1)# you add code here \n",
    "    data = np.array([diag, odiag, odiag, oudiag, oldiag])#you add code here)\n",
    "    dvals = np.array([0,-1,1, Nint - 2, 2 - Nint])  \n",
    "    Amat = spdiags(data, dvals, Nint-1, Nint-1)\n",
    "    eigenvalues, eigenvectors = eigsh(Amat,10,which='SM',mode='buckling') # return energies and eigenvectors \n",
    "   \n",
    "    return eigenvalues # modify later to find appropriate eigenvectors \n",
    "\n",
    "Nvls = 2000\n",
    "xvals = np.linspace(-1.,1.,Nvls+1)\n",
    "\n",
    "tprofile = eval_find(Nvls,xvals,1)\n",
    "plt.scatter(np.arange(tprofile.size),tprofile[:])\n",
    "plt.xlabel(\"$n$\")\n",
    "plt.ylabel(\"$E_{n}$\")"
   ]
  },
  {
   "cell_type": "code",
   "execution_count": 3,
   "metadata": {},
   "outputs": [
    {
     "data": {
      "text/plain": [
       "Text(0, 0.5, '$E_{n}$')"
      ]
     },
     "execution_count": 3,
     "metadata": {},
     "output_type": "execute_result"
    },
    {
     "data": {
      "image/png": "[encoded data removed]",
      "text/plain": [
       "<Figure size 432x288 with 1 Axes>"
      ]
     },
     "metadata": {
      "needs_background": "light"
     },
     "output_type": "display_data"
    }
   ],
   "source": [
    "uprofile = eval_find(Nvls,xvals,.1)\n",
    "plt.scatter(np.arange(uprofile.size),uprofile[:])\n",
    "plt.xlabel(\"$n$\")\n",
    "plt.ylabel(\"$E_{n}$\")"
   ]
  },
  {
   "cell_type": "code",
   "execution_count": 8,
   "metadata": {},
   "outputs": [
    {
     "data": {
      "text/plain": [
       "Text(0, 0.5, '$E_{n}$')"
      ]
     },
     "execution_count": 8,
     "metadata": {},
     "output_type": "execute_result"
    },
    {
     "data": {
      "image/png": "[encoded data removed]",
      "text/plain": [
       "<Figure size 432x288 with 1 Axes>"
      ]
     },
     "metadata": {
      "needs_background": "light"
     },
     "output_type": "display_data"
    }
   ],
   "source": [
    "vprofile = eval_find(Nvls,xvals,.01)\n",
    "plt.scatter(np.arange(vprofile.size),vprofile[:])\n",
    "plt.xlabel(\"$n$\")\n",
    "plt.ylabel(\"$E_{n}$\")"
   ]
  },
  {
   "cell_type": "code",
   "execution_count": 9,
   "metadata": {},
   "outputs": [
    {
     "data": {
      "text/plain": [
       "Text(0, 0.5, '$E_{n}$')"
      ]
     },
     "execution_count": 9,
     "metadata": {},
     "output_type": "execute_result"
    },
    {
     "data": {
      "image/png": "[encoded data removed]",
      "text/plain": [
       "<Figure size 432x288 with 1 Axes>"
      ]
     },
     "metadata": {
      "needs_background": "light"
     },
     "output_type": "display_data"
    }
   ],
   "source": [
    "wprofile = eval_find(Nvls,xvals,.001)\n",
    "plt.scatter(np.arange(wprofile.size),wprofile[:])\n",
    "plt.xlabel(\"$n$\")\n",
    "plt.ylabel(\"$E_{n}$\")"
   ]
  },
  {
   "cell_type": "markdown",
   "metadata": {},
   "source": [
    "It seems that the smaller the $\\epsilon$ value, the more linear the graph gets."
   ]
  },
  {
   "cell_type": "code",
   "execution_count": 4,
   "metadata": {},
   "outputs": [
    {
     "data": {
      "image/png": "[encoded data removed]",
      "text/plain": [
       "<Figure size 432x288 with 1 Axes>"
      ]
     },
     "metadata": {
      "needs_background": "light"
     },
     "output_type": "display_data"
    }
   ],
   "source": [
    "#1c: \n",
    "def evec_find(Nvls,xvals,epvl):\n",
    "    Nint = int(Nvls)\n",
    "    dx = 2./Nvls\n",
    "    idx2 = 1./(dx*dx)    \n",
    "    diag = -2. *-epvl*idx2*np.ones(Nint-1) + np.cos(np.pi*xvals[1:Nint])\n",
    "    odiag = 1*-epvl*idx2*np.ones(Nint-1)\n",
    "    oudiag = 1*-epvl*idx2*np.ones(Nint-1)\n",
    "    oldiag = 1*-epvl*idx2*np.ones(Nint-1)\n",
    "    data = np.array([diag, odiag, odiag, oudiag, oldiag])\n",
    "    dvals = np.array([0,-1,1,Nint-2,2-Nint])  \n",
    "    Amat = spdiags(data, dvals, Nint-1, Nint-1)\n",
    "    eigenvalues, eigenvectors = eigsh(Amat,10,which='SM',mode='buckling') \n",
    "    for ll in range(3):\n",
    "        scalefactor = dx * np.sum((eigenvectors[:,ll])**2)\n",
    "        tprof = (1./scalefactor)*(eigenvectors[:,ll])**2\n",
    "        ljs = '$E - Level'+str(ll)+'$'\n",
    "        plt.plot(np.arange(tprof.size), tprof, label=ljs)\n",
    "        \n",
    "    plt.xlabel(\"$n$\")\n",
    "    plt.ylabel(\"$\\tilde{y}(x)$\")\n",
    "    plt.legend(loc='best')\n",
    "    return tprof\n",
    "\n",
    "Nvls = 2000\n",
    "xvals = np.linspace(-1.,1.,Nvls+1)\n",
    "\n",
    "tprofile = evec_find(Nvls,xvals,.01)"
   ]
  },
  {
   "cell_type": "markdown",
   "metadata": {},
   "source": [
    "1c Explanation: It seems that the higher the energy level, the less likely it is to find the particle along one of the sides. We can see that the interval, in which the particle could be, decreases which may serve useful since that you have less places to be looking."
   ]
  },
  {
   "cell_type": "markdown",
   "metadata": {},
   "source": [
    "**Problem 2**: (20 pts) A more realistic way to describe the dynamics of temperature in a narrow corridor is via the _heat equation_, which is a partial differential equation describing how the temperature $T(x,t)$ changes in both space and time.  It is given by\n",
    "\n",
    "$$\n",
    "\\frac{\\partial T}{\\partial t} = k \\frac{\\partial^{2}T}{\\partial x^{2}}, ~ a\\leq x \\leq b\n",
    "$$\n",
    "\n",
    "where $k>0$ is the _thermal diffusion_ coefficient, and where we have the _oscillating_ boundary conditions \n",
    "\n",
    "$$\n",
    "\\left.\\frac{\\partial T(x,t)}{\\partial x}\\right|_{x=a} = \\frac{1-\\cos(t)}{2}\n",
    "$$\n",
    "\n",
    "and\n",
    "\n",
    "$$\n",
    "\\left.\\frac{\\partial T(x,t)}{\\partial x}\\right|_{x=b} = -\\sin(t), \n",
    "$$\n",
    "\n",
    "representing two heat flux sources at either end of the domain, such as might arise from the motion of the Sun throughout the day, allowing for cooling on one side and heating on the other, with their roles switching as the Sun moves from East to West.  We likewise have the initial temperature distribution\n",
    "\n",
    "$$\n",
    "T(x,0) = u(x).\n",
    "$$\n",
    "\n",
    "To numerically solve this, letting $x_{j}= a + j\\delta x$, $\\delta x = (b-a)/N$\n",
    "\n",
    "2a) Letting $T_{j}(t)=T(x_{j},t)$, show that the insulating boundary conditions are approximated by the finite-difference approximations:\n",
    "$$\n",
    "T_{0}(t) = \\frac{2}{3}\\left(2T_{1}(t)-\\frac{1}{2}T_{2}(t)\\right)-\\frac{2\\delta x}{3} \\frac{(1-\\cos(t))}{2}, ~ T_{N}(t) = \\frac{2}{3}\\left(2T_{N-1} - \\frac{1}{2}T_{N-2}(t)\\right)-\\frac{2\\delta x}{3} \\sin(t).  \n",
    "$$\n",
    "(Note, see Homework Ten).  \n",
    "2b) Using second-order centered-differencing approximations for the $\\partial^{2}T/\\partial{x^{2}}$ term, show that by discretizing in space, you get the following initial value problem\n",
    "\n",
    "$$\n",
    "\\frac{d{\\bf T}}{dt} = kA{\\bf T}, ~ {\\bf T}(t) = \\begin{pmatrix} T_{1}(t) \\\\ T_{2}(t) \\\\ \\cdots \\\\ T_{N-1}(t)\\end{pmatrix}, ~ {\\bf T}(0) = \\begin{pmatrix} u(x_{1}) \\\\ u(x_{2}) \\\\ \\cdots \\\\ u(x_{N-1})\\end{pmatrix}\n",
    "$$\n",
    "\n",
    "where $A$ is some $(N-1)\\times (N-1)$ sparse matrix.  What is $A$?  Is $A$ still symmetric?   \n",
    "\n",
    "2c) Using the Trapezoid Method, we can discretize in time so that if we use time step $\\delta t$, we get \n",
    "\n",
    "$$\n",
    "\\left(I - \\frac{\\delta t k}{2} A\\right){\\bf T}_{m+1} = \\left(I + \\frac{\\delta t k}{2} A\\right){\\bf T}_{m} + \\frac{\\delta t k}{2}\\left({\\bf f}_{m+1} + {\\bf f}_{m}\\right),\n",
    "$$\n",
    "\n",
    "where \n",
    "\n",
    "$$\n",
    "{\\bf T}_{m} = {\\bf T}(t_{m}) = \\begin{pmatrix} T(x_{1},t_{m}) \\\\ T(x_{2},t_{m}) \\\\ \\cdots \\\\ T(x_{N-1},t_{m})\\end{pmatrix}\n",
    "$$\n",
    "\n",
    "and\n",
    "\n",
    "$$\n",
    "{\\bf f}_{m} = \\frac{2}{3\\delta x}\\begin{pmatrix} -(1-\\cos(t_{m}))/2 \\\\ 0 \\\\ \\vdots \\\\ 0 \\\\ -\\sin(t_{m}) \\end{pmatrix}\n",
    "$$\n",
    "\n",
    "Using the code snippet below implement the above scheme to solve the heat equation.  Using the initial heat distribution\n",
    "\n",
    "$$\n",
    "u(x) = e^{-(x-5)^{2}}, ~ 0\\leq x \\leq 10,\n",
    "$$\n",
    "\n",
    "generate several plots which show for $0\\leq t \\leq 10$ how changing the thermal diffusion paramter $k$ from $k=1,10,100$ changes the behavior of the temperature.  Explain your results and comment on any interesting phenomena. "
   ]
  },
  {
   "cell_type": "markdown",
   "metadata": {},
   "source": [
    "2a)\n",
    "\n",
    "\n",
    "From forward differencing:\n",
    " \n",
    "$$\n",
    "T^{'}(x_j) = \\frac{1}{\\delta \n",
    "x}\\left(-\\frac{3}{2}T_{j} + 2T_{j+1} - \\frac{1}{2}T_{j+2} \\right)\n",
    "$$\n",
    "\n",
    "\n",
    "\n",
    "$$\n",
    "T^{'}(x_0) = \\frac{1}{\\delta \n",
    "x}\\left(-\\frac{3}{2}T_{0} + 2T_{1} - \\frac{1}{2}T_{2} \\right)\n",
    "$$\n",
    "\n",
    "Then I can use $T^{'}(x_0) = \\frac{1-\\cos(t)}{2}$\n",
    "\n",
    "We substitute:\n",
    "\n",
    "$\\delta x \\frac{1-\\cos(t)}{2} = \\left(-\\frac{3}{2}T_{0} + 2T_{1} - \\frac{1}{2}T_{2} \\right)$\n",
    "\n",
    " \n",
    "\n",
    "\n",
    "=> $\n",
    "T_{0}(t) = \\frac{2}{3}\\left(2T_{1}(t)-\\frac{1}{2}T_{2}(t)\\right)-\\frac{2\\delta x}{3} \\frac{(1-\\cos(t))}{2}\n",
    "$\n",
    "\n",
    "Now we switch to backwards differencing: \n",
    "\n",
    "$\n",
    "T'_N \\approx\n",
    "\\frac{1}{\\delta \n",
    "x}\\left(-2T_{N-1} + \\frac{3}{2}T_{N} - \\frac{1}{2}T_{N-2} \\right)\n",
    "$\n",
    "\n",
    "\n",
    "=> $T_{N}(t) = -\\sin(t)$ \n",
    "\n",
    "$\n",
    "-\\sin(t) =\\frac{1}{\\delta \n",
    "x}\\left(-2T_{N-1} + \\frac{3}{2}T_{N} - \\frac{1}{2}T_{N-2} \\right)\n",
    "$\n",
    "\n",
    " \n",
    "\n",
    "=> $\n",
    "-\\sin(t)\\delta x =\\left(-2T_{N-1} + \\frac{3}{2}T_{N} - \\frac{1}{2}T_{N-2} \\right)\n",
    "$\n",
    "\n",
    " \n",
    "\n",
    "$$\n",
    "T_{N}(t) = \\frac{2}{3}\\left(2T_{N-1} - \\frac{1}{2}T_{N-2}(t)\\right)-\\frac{2\\delta x}{3} \\sin(t).  \n",
    "$$\n"
   ]
  },
  {
   "cell_type": "markdown",
   "metadata": {},
   "source": [
    "2b)\n",
    "\n",
    "$$\n",
    "\\frac{k}{(dx)^{2}} \\begin{pmatrix} \\frac{-2}{3} & \\frac{2}{3} \\\\ 1 & -2 & 1 \\\\\n",
    " & & \\ddots & & \\\\ & & 1 & -2 & 1\\\\\n",
    " & & & \\frac{2}{3} & \\frac{-2}{3}\n",
    "\\end{pmatrix} \\begin{pmatrix} T_{1} \\\\ \\vdots \\\\ T_{N-1} \\end{pmatrix}  = \\begin{pmatrix}\\frac{dT_1}{dt}+\n",
    "\\frac{\\delta x (1-cos(t))}{3} \\\\ \n",
    "\\frac{dT_2}{dt}\\\\ \\vdots \\\\ \\frac{dT_{N-2}}{dt}\\\\ \\frac{dT_{N-1}}{dt} +\\frac{2\\delta x \\sin(t)}{3} \\end{pmatrix}\n",
    "$$"
   ]
  },
  {
   "cell_type": "code",
   "execution_count": 30,
   "metadata": {},
   "outputs": [
    {
     "data": {
      "image/png": "[encoded data removed]",
      "text/plain": [
       "<Figure size 432x288 with 2 Axes>"
      ]
     },
     "metadata": {
      "needs_background": "light"
     },
     "output_type": "display_data"
    }
   ],
   "source": [
    "def heat_eq_solver(k,u0,Nvls,dx,dt,t0,tf):    \n",
    "    nsteps = int(np.round((tf-t0)/dt))\n",
    "    Tsol = np.zeros((Nvls-1,nsteps+1))  \n",
    "    Tsol[:,0] = u0\n",
    "    idx2 = 1./(dx**2.)\n",
    "    diag = -2.*np.ones(Nvls-1)\n",
    "    udiag = np.ones(Nvls-1)\n",
    "    ldiag = np.ones(Nvls-1)\n",
    "    diag[0] = -2/3\n",
    "    diag[Nvls-2] = -2/3\n",
    "    udiag[1] = 2/3\n",
    "    ldiag[Nvls-3] = 2/3\n",
    "    data = np.array([diag,ldiag,udiag])\n",
    "    dvals = np.array([0,-1,1])\n",
    "    Amat = idx2*spdiags(data, dvals, Nvls-1, Nvls-1)\n",
    "    Lp = sid(Nvls-1) + dt*k*Amat/2.\n",
    "    Lm = sid(Nvls-1) - dt*k*Amat/2.\n",
    "    for mm in range(0, nsteps):\n",
    "        t = t0 + mm*dt \n",
    "        f = np.zeros(nsteps - 1)\n",
    "        f[0] = (-2/(3*dx))*(1 - np.cos(t))/2\n",
    "        f[nsteps - 2] = (-2/(3*dx))*np.sin(t)\n",
    "        ta = t0 + (mm + 1)*dt\n",
    "        fa = np.zeros(nsteps - 1)\n",
    "        fa[0] = (-2/(3*dx))*(1 - np.cos(ta))/2\n",
    "        f[nsteps - 2] = (-2/(3*dx))*np.sin(ta)\n",
    "        Tsol[:,mm + 1] = spsolve(Lm, Lp*Tsol[:,mm] + (dt*k/2)*(fa + f))\n",
    "    return Tsol\n",
    "\n",
    "Nvls = int(1e2)\n",
    "xvals = np.linspace(0.,10.,Nvls+1)\n",
    "xvalsc = xvals[1:Nvls]\n",
    "dx = 10./Nvls\n",
    "dt = 1e-1\n",
    "t0 = 0.\n",
    "tf = 10.\n",
    "k = 1.\n",
    "NT = int(np.round(tf/dt))\n",
    "\n",
    "u0 = np.exp(-(xvals[1:Nvls]-5.)**2.)\n",
    "Tsol = heat_eq_solver(k,u0,Nvls,dx,dt,t0,tf)\n",
    "\n",
    "plt.subplot(2,1,1)\n",
    "plt.plot(xvalsc,Tsol[:,0])\n",
    "plt.xlabel('$x$')\n",
    "plt.ylabel('$T(x,0)$')\n",
    "\n",
    "plt.subplot(2,1,2)\n",
    "plt.plot(xvalsc,Tsol[:,99])\n",
    "plt.xlabel('$x$')\n",
    "plt.ylabel('$T(x,t_{f})$')\n",
    "\n",
    "plt.tight_layout()"
   ]
  },
  {
   "cell_type": "code",
   "execution_count": 31,
   "metadata": {},
   "outputs": [
    {
     "data": {
      "image/png": "[encoded data removed]",
      "text/plain": [
       "<Figure size 432x288 with 2 Axes>"
      ]
     },
     "metadata": {
      "needs_background": "light"
     },
     "output_type": "display_data"
    }
   ],
   "source": [
    "Nvls = int(1e2)\n",
    "xvals = np.linspace(0.,10.,Nvls+1)\n",
    "xvalsc = xvals[1:Nvls]\n",
    "dx = 10./Nvls\n",
    "dt = 1e-1\n",
    "t0 = 0.\n",
    "tf = 10.\n",
    "k = 10.\n",
    "NT = int(np.round(tf/dt))\n",
    "\n",
    "u0 = np.exp(-(xvals[1:Nvls]-5.)**2.)\n",
    "Tsol = heat_eq_solver(k,u0,Nvls,dx,dt,t0,tf)\n",
    "\n",
    "plt.subplot(2,1,1)\n",
    "plt.plot(xvalsc,Tsol[:,0])\n",
    "plt.xlabel('$x$')\n",
    "plt.ylabel('$T(x,0)$')\n",
    "\n",
    "plt.subplot(2,1,2)\n",
    "plt.plot(xvalsc,Tsol[:,99])\n",
    "plt.xlabel('$x$')\n",
    "plt.ylabel('$T(x,t_{f})$')\n",
    "\n",
    "plt.tight_layout()"
   ]
  },
  {
   "cell_type": "code",
   "execution_count": 32,
   "metadata": {},
   "outputs": [
    {
     "data": {
      "image/png": "[encoded data removed]",
      "text/plain": [
       "<Figure size 432x288 with 2 Axes>"
      ]
     },
     "metadata": {
      "needs_background": "light"
     },
     "output_type": "display_data"
    }
   ],
   "source": [
    "Nvls = int(1e2)\n",
    "xvals = np.linspace(0.,10.,Nvls+1)\n",
    "xvalsc = xvals[1:Nvls]\n",
    "dx = 10./Nvls\n",
    "dt = 1e-1\n",
    "t0 = 0.\n",
    "tf = 10.\n",
    "k = 100.\n",
    "NT = int(np.round(tf/dt))\n",
    "\n",
    "u0 = np.exp(-(xvals[1:Nvls]-5.)**2.)\n",
    "Tsol = heat_eq_solver(k,u0,Nvls,dx,dt,t0,tf)\n",
    "\n",
    "plt.subplot(2,1,1)\n",
    "plt.plot(xvalsc,Tsol[:,0])\n",
    "plt.xlabel('$x$')\n",
    "plt.ylabel('$T(x,0)$')\n",
    "\n",
    "plt.subplot(2,1,2)\n",
    "plt.plot(xvalsc,Tsol[:,99])\n",
    "plt.xlabel('$x$')\n",
    "plt.ylabel('$T(x,t_{f})$')\n",
    "\n",
    "plt.tight_layout()"
   ]
  },
  {
   "cell_type": "markdown",
   "metadata": {},
   "source": [
    "**Problem 3** (10pts): A method for solving the matrix problem \n",
    "\n",
    "$$\n",
    "A{\\bf x} = {\\bf b}\n",
    "$$\n",
    "\n",
    "where $A$ is an $n\\times n$ matrix, and ${\\bf x},{\\bf b} \\in \\mathbb{R}^{n}$, goes as follows.  \n",
    "\n",
    "* Write $A = D + R$, where $D$ is the diagonal of $A$, and $R= A-D$ is everything not on the diagonal of $A$.\n",
    "* Given an initial choice of ${\\bf x}_{0}$, define the iterative scheme \n",
    "$$\n",
    "{\\bf x}_{k+1} = D^{-1}\\left({\\bf b} - R{\\bf x}_{k} \\right), ~ k\\geq 0.  \n",
    "$$\n",
    "* For a user defined tolerance $tol$, stop when \n",
    "$$\n",
    "\\left|\\left|{\\bf x}_{k+1} - {\\bf x}_{k} \\right|\\right|_{2} < tol.  \n",
    "$$\n",
    "\n",
    "Given this method then, \n",
    "\n",
    "* Complete the code skeleton below.  \n",
    "* Using the matrices generated by Problem 1, test your code on several different sized matrices, say where $n=10, ~100, ~200$.  Likewise choose ${\\bf b}$ to be random vectors of size $10$, $100$, and $200$.  For the $tol$ values of $tol=10^{-4}$ and $tol=10^{-8}$, compare the results of your method to those you get using `spsolve`.  Do you see any variation in the accuracy of your results due to the change in size of the dimension of the problem?    \n",
    "* For $n=200$, numerically determine the rate of convergence of this method, i.e. find $\\alpha$ where\n",
    "$$\n",
    "\\lim_{k\\rightarrow \\infty}\\frac{\\left|\\left|{\\bf x}_{k+1}-{\\bf x}_{\\ast}\\right|\\right|_{2}}{\\left|\\left|{\\bf x}_{k}-{\\bf x}_{\\ast}\\right|\\right|^{\\alpha}_{2}} = \\lambda\n",
    "$$\n",
    "and where\n",
    "$$\n",
    "A{\\bf x}_{\\ast} \\approx {\\bf b},\n",
    "$$\n",
    "in other words ${\\bf x}_{\\ast}$ is the exact solution, or your best approximation to it.  "
   ]
  },
  {
   "cell_type": "code",
   "execution_count": 12,
   "metadata": {},
   "outputs": [],
   "source": [
    "def iter_solver(A,b,x0,tol):\n",
    "    Da = np.diag(A) # returns the diagonal entries of A as an array\n",
    "    Rmat = A-np.diag(Da)# the matrix that is A but with zero diagonal entries\n",
    "    x1 = (b - np.dot(Rmat,x0))/Da # I can just divide by an array, \n",
    "                                     # because that's all the inverse of a diagonal matrix really asks of us.  \n",
    "    while np.linalg.norm(x1-x0, 2) >= tol:# the norm based tolerance condition, free of charge \n",
    "        x0 = x1\n",
    "        x1 = (b - np.matmul(Rmat,x1))/Da\n",
    "    return x1\n",
    "\n",
    "btn = np.random.randn(10) # generate a random vector of 10 entries\n",
    "bhn = np.random.randn(100) \n",
    "btwh = np.random.randn(200) \n",
    "# and I leave the rest to your capable hands.  \n",
    "# It's been a great semester.  Have a great break and happy holidays. "
   ]
  },
  {
   "cell_type": "code",
   "execution_count": 23,
   "metadata": {},
   "outputs": [],
   "source": [
    "def mat(Nvals):\n",
    "    Nint = int(Nvals)\n",
    "    #dx = 2./Nvls\n",
    "    #idx2 = 1./(dx*dx)\n",
    "    \n",
    "    xvals = np.linspace(0,Nvals-1, int(Nvals))\n",
    "    diag = 2.*np.ones([Nvals])# + np.cos(np.pi*(xvals[1:Nvals]))\n",
    "    odiag = -1*np.ones([Nvals])\n",
    "    oudiag = np.ones([Nvals])\n",
    "    oldiag = np.ones([Nvals])\n",
    "    data = np.array([diag,odiag,odiag,oudiag,oldiag])\n",
    "    dvals = np.array([0,-1,1, Nvals - 1, 1 - Nvals])\n",
    "    A = spdiags(data, dvals, Nvals, Nvals)\n",
    "    return A.toarray()\n",
    "\n",
    "\n",
    "btn = np.random.randn(10)\n",
    "bhn = np.random.randn(100) \n",
    "btwh = np.random.randn(200) \n",
    "\n",
    "xvals10 = np.linspace(0, 9, int(10))\n",
    "xvals100 = np.linspace(0, 99, int(100))\n",
    "xvals200 = np.linspace(0, 199, int(200))"
   ]
  },
  {
   "cell_type": "code",
   "execution_count": 24,
   "metadata": {},
   "outputs": [
    {
     "data": {
      "text/plain": [
       "<matplotlib.legend.Legend at 0xa1e12cfd0>"
      ]
     },
     "execution_count": 24,
     "metadata": {},
     "output_type": "execute_result"
    },
    {
     "data": {
      "image/png": "[encoded data removed]",
      "text/plain": [
       "<Figure size 432x288 with 1 Axes>"
      ]
     },
     "metadata": {
      "needs_background": "light"
     },
     "output_type": "display_data"
    }
   ],
   "source": [
    "#vector size = 10\n",
    "tol1 = iter_solver(mat(10), btn, np.ones(10), 1e-4)\n",
    "tol2 = iter_solver(mat(10), btn, np.ones(10), 1e-8)\n",
    "spsolvem = spsolve(mat(10), btn)\n",
    "plt.plot(xvals10, np.ma.log10(np.abs(tol1 - spsolvem)), label = \"1e-4\")\n",
    "plt.plot(xvals10, np.ma.log10(np.abs(tol2 - spsolvem)), label = \"1e-8\")\n",
    "plt.legend()"
   ]
  },
  {
   "cell_type": "code",
   "execution_count": 25,
   "metadata": {},
   "outputs": [
    {
     "data": {
      "text/plain": [
       "<matplotlib.legend.Legend at 0xa1e4f0fd0>"
      ]
     },
     "execution_count": 25,
     "metadata": {},
     "output_type": "execute_result"
    },
    {
     "data": {
      "image/png": "[encoded data removed]",
      "text/plain": [
       "<Figure size 432x288 with 1 Axes>"
      ]
     },
     "metadata": {
      "needs_background": "light"
     },
     "output_type": "display_data"
    }
   ],
   "source": [
    "#vector size = 100\n",
    "tol1 = iter_solver(mat(100), bhn,np.ones(100),1e-4)\n",
    "tol2 = iter_solver(mat(100), bhn,np.ones(100),1e-8)\n",
    "spsolvem = spsolve(mat(100), bhn)\n",
    "plt.plot(xvals100, np.ma.log10(np.abs(tol1 - spsolvem)), label = \"1e-4\")\n",
    "plt.plot(xvals100, np.ma.log10(np.abs(tol2 - spsolvem)), label = \"1e-8\")\n",
    "plt.legend()"
   ]
  },
  {
   "cell_type": "code",
   "execution_count": 26,
   "metadata": {},
   "outputs": [
    {
     "data": {
      "text/plain": [
       "<matplotlib.legend.Legend at 0xa1e635860>"
      ]
     },
     "execution_count": 26,
     "metadata": {},
     "output_type": "execute_result"
    },
    {
     "data": {
      "image/png": "[encoded data removed]",
      "text/plain": [
       "<Figure size 432x288 with 1 Axes>"
      ]
     },
     "metadata": {
      "needs_background": "light"
     },
     "output_type": "display_data"
    }
   ],
   "source": [
    "#vector size = 200\n",
    "tol1 = iter_solver(mat(200), btwh, np.ones(200), 1e-4)\n",
    "tol2 = iter_solver(mat(200), btwh, np.ones(200), 1e-8)\n",
    "spsolvem = spsolve(mat(200), btwh)\n",
    "plt.plot(xvals200, np.ma.log10(np.abs(tol1 - spsolvem)), label = \"1e-4\")\n",
    "plt.plot(xvals200, np.ma.log10(np.abs(tol2 - spsolvem)), label = \"1e-8\")\n",
    "plt.legend()"
   ]
  },
  {
   "cell_type": "markdown",
   "metadata": {},
   "source": [
    "It seems that as we recruit smaller tolerances, the accuracy gets better. This is prevelant as we see $10^{-8}$ being more accurate."
   ]
  },
  {
   "cell_type": "code",
   "execution_count": 33,
   "metadata": {},
   "outputs": [
    {
     "name": "stdout",
     "output_type": "stream",
     "text": [
      "alpha =  [       nan        nan        nan        nan        nan        nan\n",
      "        nan        nan        nan        nan        nan        nan\n",
      "        nan        nan        nan        nan        nan        nan\n",
      "        nan        nan        nan        nan        nan        nan\n",
      "        nan        nan        nan        nan 1.29137197 0.8272534\n",
      " 1.16963702 0.87418128 1.12480559 0.90115689 1.09715157 0.92035854\n",
      " 1.07727259 0.93533237 1.06182779 0.94763121 1.04924111 0.95808114\n",
      " 1.03864358 0.96717652 1.02950548 0.97523767 1.02148029 0.98248448\n",
      " 1.01432908 0.98907468 1.00788029 0.99512537 1.00200666 1.00072598\n",
      " 0.99661122 1.00594641 0.99161843 1.01084235 0.98696831 1.01545897\n",
      " 0.98261245 1.01983342 0.97851122 1.02399669 0.97463175 1.02797491\n",
      " 0.97094644 1.03179035 0.96743191 1.03546222 0.96406815 1.03900721\n",
      " 0.96083787 1.04243995 0.95772597 1.04577342 0.95471925 1.04901918\n",
      " 0.95180596 1.05218765 0.94897564 1.05528829 0.94621887 1.05832976\n",
      " 0.94352712 1.06132007 0.94089259 1.06426666 0.93830808 1.06717656\n",
      " 0.93576691 1.07005643 0.93326282 1.07291267 0.93078987 1.07575146\n",
      " 0.9283424  1.07857887 0.92591496 1.0814009  0.92350223 1.08422351\n",
      " 0.92109898 1.08705278 0.91870001 1.08989485 0.9163001  1.0927561\n",
      " 0.91389395 1.09564316 0.91147611 1.09856297 0.90904096 1.10152293\n",
      " 0.90658259 1.10453097 0.90409476 1.10759565 0.90157079 1.11072631\n",
      " 0.8990035  1.11393322 0.89638506 1.11722778 0.89370688 1.12062272\n",
      " 0.89095944 1.12413243 0.88813207 1.12777324 0.88521275 1.13156391\n",
      " 0.88218779 1.13552612 0.87904147 1.13968522 0.87575549 1.1440711\n",
      " 0.87230845 1.14871941 0.86867491 1.15367314 0.86482437 1.15898487\n",
      " 0.86071971 1.16471978 0.85631506 1.17096004 0.85155281 1.1778113\n",
      " 0.84635909 1.18541241 0.84063698 1.19395087 0.83425561 1.20368833\n",
      " 0.82703199 1.21500523 0.81869859 1.22848498 0.80884075 1.24508851\n",
      " 0.79676136 1.26656915 0.78113878 1.29667909 0.75891098 1.3461836\n",
      " 0.7191928  1.49002241        nan        nan        nan        nan\n",
      "        nan        nan        nan        nan        nan        nan\n",
      "        nan        nan        nan        nan        nan        nan\n",
      "        nan        nan        nan        nan        nan        nan\n",
      "        nan        nan        nan        nan        nan        nan\n",
      "        nan        nan]\n"
     ]
    },
    {
     "name": "stderr",
     "output_type": "stream",
     "text": [
      "//anaconda3/lib/python3.7/site-packages/ipykernel_launcher.py:19: RuntimeWarning: invalid value encountered in log10\n"
     ]
    }
   ],
   "source": [
    "def myiter_solver(A,b,x0,tol):\n",
    "    Da = np.diag(A) # returns the diagonal entries of A as an array\n",
    "    Rmat = A-np.diag(Da)# the matrix that is A but with zero diagonal entries\n",
    "    x1 = (b - np.dot(Rmat,x0))/Da # I can just divide by an array, \n",
    "                                     # because that's all the inverse of a diagonal matrix really asks of us.  \n",
    "    \n",
    "    while np.linalg.norm(x1-x0,2) >= tol: \n",
    "        a = x0\n",
    "        x0 = x1\n",
    "        x1 = (b - np.matmul(Rmat,x1))/Da\n",
    "        \n",
    "       \n",
    "    return [a,x0,x1] \n",
    "\n",
    "tol1 = myiter_solver(mat(200), btwh, np.ones(200),1e-4);\n",
    "x0 = tol1[0];\n",
    "x1 = tol1[1];\n",
    "x2 = tol1[2];\n",
    "print('alpha = ',np.log10((x1-x0))/np.log10((x2-x1)))\n",
    "\n"
   ]
  },
  {
   "cell_type": "code",
   "execution_count": null,
   "metadata": {},
   "outputs": [],
   "source": []
  }
 ],
 "metadata": {
  "kernelspec": {
   "display_name": "Python 3",
   "language": "python",
   "name": "python3"
  },
  "language_info": {
   "codemirror_mode": {
    "name": "ipython",
    "version": 3
   },
   "file_extension": ".py",
   "mimetype": "text/x-python",
   "name": "python",
   "nbconvert_exporter": "python",
   "pygments_lexer": "ipython3",
   "version": "3.7.3"
  }
 },
 "nbformat": 4,
 "nbformat_minor": 2
}
